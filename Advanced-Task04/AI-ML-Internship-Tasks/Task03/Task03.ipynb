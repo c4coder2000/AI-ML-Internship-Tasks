{
 "cells": [
  {
   "cell_type": "markdown",
   "metadata": {},
   "source": [
    "# **HEART DISEASE PREDICTION USING LOGISTIC REGRESSION**"
   ]
  },
  {
   "cell_type": "markdown",
   "metadata": {},
   "source": [
    "This dataset was quite clean, and it didnt took a lot of time, and unlike the task06 house price prediction where the score was only 0.54 here the score was .90 quite good i would say but yeah there is always a room towards more."
   ]
  },
  {
   "cell_type": "code",
   "execution_count": 635,
   "metadata": {
    "execution": {
     "iopub.execute_input": "2024-08-29T14:29:51.715706Z",
     "iopub.status.busy": "2024-08-29T14:29:51.715216Z",
     "iopub.status.idle": "2024-08-29T14:29:51.721821Z",
     "shell.execute_reply": "2024-08-29T14:29:51.720490Z",
     "shell.execute_reply.started": "2024-08-29T14:29:51.715664Z"
    },
    "trusted": true
   },
   "outputs": [],
   "source": [
    "import pandas as pd\n",
    "import matplotlib.pyplot as plt"
   ]
  },
  {
   "cell_type": "code",
   "execution_count": 636,
   "metadata": {
    "execution": {
     "iopub.execute_input": "2024-08-29T14:29:51.724822Z",
     "iopub.status.busy": "2024-08-29T14:29:51.724404Z",
     "iopub.status.idle": "2024-08-29T14:29:51.739424Z",
     "shell.execute_reply": "2024-08-29T14:29:51.737781Z",
     "shell.execute_reply.started": "2024-08-29T14:29:51.724781Z"
    },
    "trusted": true
   },
   "outputs": [],
   "source": [
    "data = pd.read_csv('/kaggle/input/heart-diseae/heart-disease.csv')"
   ]
  },
  {
   "cell_type": "code",
   "execution_count": 637,
   "metadata": {
    "execution": {
     "iopub.execute_input": "2024-08-29T14:29:51.741508Z",
     "iopub.status.busy": "2024-08-29T14:29:51.741033Z",
     "iopub.status.idle": "2024-08-29T14:29:51.762682Z",
     "shell.execute_reply": "2024-08-29T14:29:51.761095Z",
     "shell.execute_reply.started": "2024-08-29T14:29:51.741454Z"
    },
    "trusted": true
   },
   "outputs": [
    {
     "data": {
      "text/html": [
       "<div>\n",
       "<style scoped>\n",
       "    .dataframe tbody tr th:only-of-type {\n",
       "        vertical-align: middle;\n",
       "    }\n",
       "\n",
       "    .dataframe tbody tr th {\n",
       "        vertical-align: top;\n",
       "    }\n",
       "\n",
       "    .dataframe thead th {\n",
       "        text-align: right;\n",
       "    }\n",
       "</style>\n",
       "<table border=\"1\" class=\"dataframe\">\n",
       "  <thead>\n",
       "    <tr style=\"text-align: right;\">\n",
       "      <th></th>\n",
       "      <th>age</th>\n",
       "      <th>sex</th>\n",
       "      <th>cp</th>\n",
       "      <th>trestbps</th>\n",
       "      <th>chol</th>\n",
       "      <th>fbs</th>\n",
       "      <th>restecg</th>\n",
       "      <th>thalach</th>\n",
       "      <th>exang</th>\n",
       "      <th>oldpeak</th>\n",
       "      <th>slope</th>\n",
       "      <th>ca</th>\n",
       "      <th>thal</th>\n",
       "      <th>target</th>\n",
       "    </tr>\n",
       "  </thead>\n",
       "  <tbody>\n",
       "    <tr>\n",
       "      <th>0</th>\n",
       "      <td>63</td>\n",
       "      <td>1</td>\n",
       "      <td>3</td>\n",
       "      <td>145</td>\n",
       "      <td>233</td>\n",
       "      <td>1</td>\n",
       "      <td>0</td>\n",
       "      <td>150</td>\n",
       "      <td>0</td>\n",
       "      <td>2.3</td>\n",
       "      <td>0</td>\n",
       "      <td>0</td>\n",
       "      <td>1</td>\n",
       "      <td>1</td>\n",
       "    </tr>\n",
       "    <tr>\n",
       "      <th>1</th>\n",
       "      <td>37</td>\n",
       "      <td>1</td>\n",
       "      <td>2</td>\n",
       "      <td>130</td>\n",
       "      <td>250</td>\n",
       "      <td>0</td>\n",
       "      <td>1</td>\n",
       "      <td>187</td>\n",
       "      <td>0</td>\n",
       "      <td>3.5</td>\n",
       "      <td>0</td>\n",
       "      <td>0</td>\n",
       "      <td>2</td>\n",
       "      <td>1</td>\n",
       "    </tr>\n",
       "    <tr>\n",
       "      <th>2</th>\n",
       "      <td>41</td>\n",
       "      <td>0</td>\n",
       "      <td>1</td>\n",
       "      <td>130</td>\n",
       "      <td>204</td>\n",
       "      <td>0</td>\n",
       "      <td>0</td>\n",
       "      <td>172</td>\n",
       "      <td>0</td>\n",
       "      <td>1.4</td>\n",
       "      <td>2</td>\n",
       "      <td>0</td>\n",
       "      <td>2</td>\n",
       "      <td>1</td>\n",
       "    </tr>\n",
       "    <tr>\n",
       "      <th>3</th>\n",
       "      <td>56</td>\n",
       "      <td>1</td>\n",
       "      <td>1</td>\n",
       "      <td>120</td>\n",
       "      <td>236</td>\n",
       "      <td>0</td>\n",
       "      <td>1</td>\n",
       "      <td>178</td>\n",
       "      <td>0</td>\n",
       "      <td>0.8</td>\n",
       "      <td>2</td>\n",
       "      <td>0</td>\n",
       "      <td>2</td>\n",
       "      <td>1</td>\n",
       "    </tr>\n",
       "    <tr>\n",
       "      <th>4</th>\n",
       "      <td>57</td>\n",
       "      <td>0</td>\n",
       "      <td>0</td>\n",
       "      <td>120</td>\n",
       "      <td>354</td>\n",
       "      <td>0</td>\n",
       "      <td>1</td>\n",
       "      <td>163</td>\n",
       "      <td>1</td>\n",
       "      <td>0.6</td>\n",
       "      <td>2</td>\n",
       "      <td>0</td>\n",
       "      <td>2</td>\n",
       "      <td>1</td>\n",
       "    </tr>\n",
       "  </tbody>\n",
       "</table>\n",
       "</div>"
      ],
      "text/plain": [
       "   age  sex  cp  trestbps  chol  fbs  restecg  thalach  exang  oldpeak  slope  \\\n",
       "0   63    1   3       145   233    1        0      150      0      2.3      0   \n",
       "1   37    1   2       130   250    0        1      187      0      3.5      0   \n",
       "2   41    0   1       130   204    0        0      172      0      1.4      2   \n",
       "3   56    1   1       120   236    0        1      178      0      0.8      2   \n",
       "4   57    0   0       120   354    0        1      163      1      0.6      2   \n",
       "\n",
       "   ca  thal  target  \n",
       "0   0     1       1  \n",
       "1   0     2       1  \n",
       "2   0     2       1  \n",
       "3   0     2       1  \n",
       "4   0     2       1  "
      ]
     },
     "execution_count": 637,
     "metadata": {},
     "output_type": "execute_result"
    }
   ],
   "source": [
    "data.head()"
   ]
  },
  {
   "cell_type": "code",
   "execution_count": 638,
   "metadata": {
    "execution": {
     "iopub.execute_input": "2024-08-29T14:29:51.765816Z",
     "iopub.status.busy": "2024-08-29T14:29:51.765391Z",
     "iopub.status.idle": "2024-08-29T14:29:51.956514Z",
     "shell.execute_reply": "2024-08-29T14:29:51.954881Z",
     "shell.execute_reply.started": "2024-08-29T14:29:51.765758Z"
    },
    "trusted": true
   },
   "outputs": [
    {
     "data": {
      "image/png": "[encoded data removed]",
      "text/plain": [
       "<Figure size 640x480 with 1 Axes>"
      ]
     },
     "metadata": {},
     "output_type": "display_data"
    }
   ],
   "source": [
    "plt.scatter(data.age,data.target)\n",
    "plt.show()"
   ]
  },
  {
   "cell_type": "code",
   "execution_count": 639,
   "metadata": {
    "execution": {
     "iopub.execute_input": "2024-08-29T14:29:51.958454Z",
     "iopub.status.busy": "2024-08-29T14:29:51.957969Z",
     "iopub.status.idle": "2024-08-29T14:29:52.231068Z",
     "shell.execute_reply": "2024-08-29T14:29:52.229569Z",
     "shell.execute_reply.started": "2024-08-29T14:29:51.958408Z"
    },
    "trusted": true
   },
   "outputs": [
    {
     "data": {
      "image/png": "[encoded data removed]",
      "text/plain": [
       "<Figure size 640x480 with 1 Axes>"
      ]
     },
     "metadata": {},
     "output_type": "display_data"
    }
   ],
   "source": [
    "plt.scatter(data.oldpeak,data.target)\n",
    "plt.show()"
   ]
  },
  {
   "cell_type": "markdown",
   "metadata": {},
   "source": [
    "**Heart attacks can affect all genders and should be treated equally**\\\n",
    "SO REMOVING USELESS SEX COLUMN FROM THE DATAFRAME\n"
   ]
  },
  {
   "cell_type": "code",
   "execution_count": 640,
   "metadata": {
    "execution": {
     "iopub.execute_input": "2024-08-29T14:29:52.233093Z",
     "iopub.status.busy": "2024-08-29T14:29:52.232658Z",
     "iopub.status.idle": "2024-08-29T14:29:52.240765Z",
     "shell.execute_reply": "2024-08-29T14:29:52.239013Z",
     "shell.execute_reply.started": "2024-08-29T14:29:52.233048Z"
    },
    "trusted": true
   },
   "outputs": [],
   "source": [
    "data1 = data.drop('sex',axis = 1)"
   ]
  },
  {
   "cell_type": "code",
   "execution_count": 641,
   "metadata": {
    "execution": {
     "iopub.execute_input": "2024-08-29T14:29:52.243369Z",
     "iopub.status.busy": "2024-08-29T14:29:52.242894Z",
     "iopub.status.idle": "2024-08-29T14:29:52.270564Z",
     "shell.execute_reply": "2024-08-29T14:29:52.268872Z",
     "shell.execute_reply.started": "2024-08-29T14:29:52.243322Z"
    },
    "trusted": true
   },
   "outputs": [
    {
     "name": "stdout",
     "output_type": "stream",
     "text": [
      "          age        cp  trestbps      chol  fbs  restecg   thalach  exang  \\\n",
      "0    0.708333  1.000000  0.481132  0.244292  1.0      0.0  0.603053    0.0   \n",
      "1    0.166667  0.666667  0.339623  0.283105  0.0      0.5  0.885496    0.0   \n",
      "2    0.250000  0.333333  0.339623  0.178082  0.0      0.0  0.770992    0.0   \n",
      "3    0.562500  0.333333  0.245283  0.251142  0.0      0.5  0.816794    0.0   \n",
      "4    0.583333  0.000000  0.245283  0.520548  0.0      0.5  0.702290    1.0   \n",
      "..        ...       ...       ...       ...  ...      ...       ...    ...   \n",
      "298  0.583333  0.000000  0.433962  0.262557  0.0      0.5  0.396947    1.0   \n",
      "299  0.333333  1.000000  0.150943  0.315068  0.0      0.5  0.465649    0.0   \n",
      "300  0.812500  0.000000  0.471698  0.152968  1.0      0.5  0.534351    0.0   \n",
      "301  0.583333  0.000000  0.339623  0.011416  0.0      0.5  0.335878    1.0   \n",
      "302  0.583333  0.333333  0.339623  0.251142  0.0      0.0  0.786260    0.0   \n",
      "\n",
      "      oldpeak  slope    ca      thal  target  \n",
      "0    0.370968    0.0  0.00  0.333333     1.0  \n",
      "1    0.564516    0.0  0.00  0.666667     1.0  \n",
      "2    0.225806    1.0  0.00  0.666667     1.0  \n",
      "3    0.129032    1.0  0.00  0.666667     1.0  \n",
      "4    0.096774    1.0  0.00  0.666667     1.0  \n",
      "..        ...    ...   ...       ...     ...  \n",
      "298  0.032258    0.5  0.00  1.000000     0.0  \n",
      "299  0.193548    0.5  0.00  1.000000     0.0  \n",
      "300  0.548387    0.5  0.50  1.000000     0.0  \n",
      "301  0.193548    0.5  0.25  1.000000     0.0  \n",
      "302  0.000000    0.5  0.25  0.666667     0.0  \n",
      "\n",
      "[303 rows x 13 columns]\n"
     ]
    }
   ],
   "source": [
    "from sklearn.model_selection import train_test_split\n",
    "from sklearn.preprocessing import MinMaxScaler\n",
    "scaler = MinMaxScaler()\n",
    "df_scaled = pd.DataFrame(scaler.fit_transform(data1), columns=data1.columns)\n",
    "print(df_scaled)"
   ]
  },
  {
   "cell_type": "code",
   "execution_count": 642,
   "metadata": {
    "execution": {
     "iopub.execute_input": "2024-08-29T14:29:52.276355Z",
     "iopub.status.busy": "2024-08-29T14:29:52.275772Z",
     "iopub.status.idle": "2024-08-29T14:29:52.289315Z",
     "shell.execute_reply": "2024-08-29T14:29:52.287547Z",
     "shell.execute_reply.started": "2024-08-29T14:29:52.276284Z"
    },
    "trusted": true
   },
   "outputs": [],
   "source": [
    "x_train,x_test,y_train,y_test = train_test_split(data1.drop(['target'],axis = 1),data1['target'],test_size = 0.2)"
   ]
  },
  {
   "cell_type": "code",
   "execution_count": 643,
   "metadata": {
    "execution": {
     "iopub.execute_input": "2024-08-29T14:29:52.292102Z",
     "iopub.status.busy": "2024-08-29T14:29:52.291512Z",
     "iopub.status.idle": "2024-08-29T14:29:52.300721Z",
     "shell.execute_reply": "2024-08-29T14:29:52.299360Z",
     "shell.execute_reply.started": "2024-08-29T14:29:52.292042Z"
    },
    "trusted": true
   },
   "outputs": [],
   "source": [
    "from sklearn.linear_model import LogisticRegression"
   ]
  },
  {
   "cell_type": "code",
   "execution_count": 644,
   "metadata": {
    "execution": {
     "iopub.execute_input": "2024-08-29T14:29:52.302831Z",
     "iopub.status.busy": "2024-08-29T14:29:52.302166Z",
     "iopub.status.idle": "2024-08-29T14:29:52.315550Z",
     "shell.execute_reply": "2024-08-29T14:29:52.314075Z",
     "shell.execute_reply.started": "2024-08-29T14:29:52.302764Z"
    },
    "trusted": true
   },
   "outputs": [],
   "source": [
    "model = LogisticRegression()"
   ]
  },
  {
   "cell_type": "code",
   "execution_count": 645,
   "metadata": {
    "execution": {
     "iopub.execute_input": "2024-08-29T14:29:52.318326Z",
     "iopub.status.busy": "2024-08-29T14:29:52.317721Z",
     "iopub.status.idle": "2024-08-29T14:29:52.360938Z",
     "shell.execute_reply": "2024-08-29T14:29:52.359614Z",
     "shell.execute_reply.started": "2024-08-29T14:29:52.318278Z"
    },
    "trusted": true
   },
   "outputs": [
    {
     "name": "stderr",
     "output_type": "stream",
     "text": [
      "/opt/conda/lib/python3.10/site-packages/sklearn/linear_model/_logistic.py:458: ConvergenceWarning: lbfgs failed to converge (status=1):\n",
      "STOP: TOTAL NO. of ITERATIONS REACHED LIMIT.\n",
      "\n",
      "Increase the number of iterations (max_iter) or scale the data as shown in:\n",
      "    https://scikit-learn.org/stable/modules/preprocessing.html\n",
      "Please also refer to the documentation for alternative solver options:\n",
      "    https://scikit-learn.org/stable/modules/linear_model.html#logistic-regression\n",
      "  n_iter_i = _check_optimize_result(\n"
     ]
    },
    {
     "data": {
      "text/html": [
       "<style>#sk-container-id-34 {color: black;background-color: white;}#sk-container-id-34 pre{padding: 0;}#sk-container-id-34 div.sk-toggleable {background-color: white;}#sk-container-id-34 label.sk-toggleable__label {cursor: pointer;display: block;width: 100%;margin-bottom: 0;padding: 0.3em;box-sizing: border-box;text-align: center;}#sk-container-id-34 label.sk-toggleable__label-arrow:before {content: \"▸\";float: left;margin-right: 0.25em;color: #696969;}#sk-container-id-34 label.sk-toggleable__label-arrow:hover:before {color: black;}#sk-container-id-34 div.sk-estimator:hover label.sk-toggleable__label-arrow:before {color: black;}#sk-container-id-34 div.sk-toggleable__content {max-height: 0;max-width: 0;overflow: hidden;text-align: left;background-color: #f0f8ff;}#sk-container-id-34 div.sk-toggleable__content pre {margin: 0.2em;color: black;border-radius: 0.25em;background-color: #f0f8ff;}#sk-container-id-34 input.sk-toggleable__control:checked~div.sk-toggleable__content {max-height: 200px;max-width: 100%;overflow: auto;}#sk-container-id-34 input.sk-toggleable__control:checked~label.sk-toggleable__label-arrow:before {content: \"▾\";}#sk-container-id-34 div.sk-estimator input.sk-toggleable__control:checked~label.sk-toggleable__label {background-color: #d4ebff;}#sk-container-id-34 div.sk-label input.sk-toggleable__control:checked~label.sk-toggleable__label {background-color: #d4ebff;}#sk-container-id-34 input.sk-hidden--visually {border: 0;clip: rect(1px 1px 1px 1px);clip: rect(1px, 1px, 1px, 1px);height: 1px;margin: -1px;overflow: hidden;padding: 0;position: absolute;width: 1px;}#sk-container-id-34 div.sk-estimator {font-family: monospace;background-color: #f0f8ff;border: 1px dotted black;border-radius: 0.25em;box-sizing: border-box;margin-bottom: 0.5em;}#sk-container-id-34 div.sk-estimator:hover {background-color: #d4ebff;}#sk-container-id-34 div.sk-parallel-item::after {content: \"\";width: 100%;border-bottom: 1px solid gray;flex-grow: 1;}#sk-container-id-34 div.sk-label:hover label.sk-toggleable__label {background-color: #d4ebff;}#sk-container-id-34 div.sk-serial::before {content: \"\";position: absolute;border-left: 1px solid gray;box-sizing: border-box;top: 0;bottom: 0;left: 50%;z-index: 0;}#sk-container-id-34 div.sk-serial {display: flex;flex-direction: column;align-items: center;background-color: white;padding-right: 0.2em;padding-left: 0.2em;position: relative;}#sk-container-id-34 div.sk-item {position: relative;z-index: 1;}#sk-container-id-34 div.sk-parallel {display: flex;align-items: stretch;justify-content: center;background-color: white;position: relative;}#sk-container-id-34 div.sk-item::before, #sk-container-id-34 div.sk-parallel-item::before {content: \"\";position: absolute;border-left: 1px solid gray;box-sizing: border-box;top: 0;bottom: 0;left: 50%;z-index: -1;}#sk-container-id-34 div.sk-parallel-item {display: flex;flex-direction: column;z-index: 1;position: relative;background-color: white;}#sk-container-id-34 div.sk-parallel-item:first-child::after {align-self: flex-end;width: 50%;}#sk-container-id-34 div.sk-parallel-item:last-child::after {align-self: flex-start;width: 50%;}#sk-container-id-34 div.sk-parallel-item:only-child::after {width: 0;}#sk-container-id-34 div.sk-dashed-wrapped {border: 1px dashed gray;margin: 0 0.4em 0.5em 0.4em;box-sizing: border-box;padding-bottom: 0.4em;background-color: white;}#sk-container-id-34 div.sk-label label {font-family: monospace;font-weight: bold;display: inline-block;line-height: 1.2em;}#sk-container-id-34 div.sk-label-container {text-align: center;}#sk-container-id-34 div.sk-container {/* jupyter's `normalize.less` sets `[hidden] { display: none; }` but bootstrap.min.css set `[hidden] { display: none !important; }` so we also need the `!important` here to be able to override the default hidden behavior on the sphinx rendered scikit-learn.org. See: https://github.com/scikit-learn/scikit-learn/issues/21755 */display: inline-block !important;position: relative;}#sk-container-id-34 div.sk-text-repr-fallback {display: none;}</style><div id=\"sk-container-id-34\" class=\"sk-top-container\"><div class=\"sk-text-repr-fallback\"><pre>LogisticRegression()</pre><b>In a Jupyter environment, please rerun this cell to show the HTML representation or trust the notebook. <br />On GitHub, the HTML representation is unable to render, please try loading this page with nbviewer.org.</b></div><div class=\"sk-container\" hidden><div class=\"sk-item\"><div class=\"sk-estimator sk-toggleable\"><input class=\"sk-toggleable__control sk-hidden--visually\" id=\"sk-estimator-id-34\" type=\"checkbox\" checked><label for=\"sk-estimator-id-34\" class=\"sk-toggleable__label sk-toggleable__label-arrow\">LogisticRegression</label><div class=\"sk-toggleable__content\"><pre>LogisticRegression()</pre></div></div></div></div></div>"
      ],
      "text/plain": [
       "LogisticRegression()"
      ]
     },
     "execution_count": 645,
     "metadata": {},
     "output_type": "execute_result"
    }
   ],
   "source": [
    "model.fit(x_train,y_train)"
   ]
  },
  {
   "cell_type": "code",
   "execution_count": 646,
   "metadata": {
    "execution": {
     "iopub.execute_input": "2024-08-29T14:29:52.363026Z",
     "iopub.status.busy": "2024-08-29T14:29:52.362586Z",
     "iopub.status.idle": "2024-08-29T14:29:52.378584Z",
     "shell.execute_reply": "2024-08-29T14:29:52.377085Z",
     "shell.execute_reply.started": "2024-08-29T14:29:52.362956Z"
    },
    "trusted": true
   },
   "outputs": [
    {
     "data": {
      "text/plain": [
       "0.8524590163934426"
      ]
     },
     "execution_count": 646,
     "metadata": {},
     "output_type": "execute_result"
    }
   ],
   "source": [
    "model.score(x_test,y_test)"
   ]
  },
  {
   "cell_type": "code",
   "execution_count": 647,
   "metadata": {
    "execution": {
     "iopub.execute_input": "2024-08-29T14:29:52.381315Z",
     "iopub.status.busy": "2024-08-29T14:29:52.380703Z",
     "iopub.status.idle": "2024-08-29T14:29:52.605459Z",
     "shell.execute_reply": "2024-08-29T14:29:52.603742Z",
     "shell.execute_reply.started": "2024-08-29T14:29:52.381251Z"
    },
    "trusted": true
   },
   "outputs": [
    {
     "data": {
      "text/plain": [
       "array([1, 1, 1, 0, 1, 1, 1, 1, 1, 1, 1, 1, 1, 1, 0, 1, 1, 1, 1, 0, 0, 1,\n",
       "       1, 1, 1, 1, 1, 0, 1, 0, 0, 0, 0, 1, 1, 0, 0, 0, 1, 1, 0, 1, 0, 1,\n",
       "       0, 1, 0, 1, 0, 0, 1, 1, 0, 1, 1, 1, 1, 1, 0, 1, 1])"
      ]
     },
     "execution_count": 647,
     "metadata": {},
     "output_type": "execute_result"
    }
   ],
   "source": [
    "model.predict(x_test)"
   ]
  },
  {
   "cell_type": "code",
   "execution_count": 648,
   "metadata": {
    "execution": {
     "iopub.execute_input": "2024-08-29T14:29:52.608976Z",
     "iopub.status.busy": "2024-08-29T14:29:52.607874Z",
     "iopub.status.idle": "2024-08-29T14:29:52.621930Z",
     "shell.execute_reply": "2024-08-29T14:29:52.620444Z",
     "shell.execute_reply.started": "2024-08-29T14:29:52.608910Z"
    },
    "trusted": true
   },
   "outputs": [
    {
     "data": {
      "text/plain": [
       "99     1\n",
       "290    0\n",
       "27     1\n",
       "168    0\n",
       "154    1\n",
       "      ..\n",
       "130    1\n",
       "299    0\n",
       "101    1\n",
       "54     1\n",
       "109    1\n",
       "Name: target, Length: 61, dtype: int64"
      ]
     },
     "execution_count": 648,
     "metadata": {},
     "output_type": "execute_result"
    }
   ],
   "source": [
    "y_test"
   ]
  },
  {
   "cell_type": "code",
   "execution_count": 649,
   "metadata": {
    "execution": {
     "iopub.execute_input": "2024-08-29T14:29:52.624611Z",
     "iopub.status.busy": "2024-08-29T14:29:52.623877Z",
     "iopub.status.idle": "2024-08-29T14:29:52.635281Z",
     "shell.execute_reply": "2024-08-29T14:29:52.633728Z",
     "shell.execute_reply.started": "2024-08-29T14:29:52.624561Z"
    },
    "trusted": true
   },
   "outputs": [],
   "source": [
    "from sklearn.metrics import precision_score"
   ]
  },
  {
   "cell_type": "code",
   "execution_count": 650,
   "metadata": {
    "execution": {
     "iopub.execute_input": "2024-08-29T14:29:52.638298Z",
     "iopub.status.busy": "2024-08-29T14:29:52.637694Z",
     "iopub.status.idle": "2024-08-29T14:29:52.650924Z",
     "shell.execute_reply": "2024-08-29T14:29:52.649334Z",
     "shell.execute_reply.started": "2024-08-29T14:29:52.638237Z"
    },
    "trusted": true
   },
   "outputs": [],
   "source": [
    "y_pred = model.predict(x_test)"
   ]
  },
  {
   "cell_type": "code",
   "execution_count": 651,
   "metadata": {
    "execution": {
     "iopub.execute_input": "2024-08-29T14:29:52.653619Z",
     "iopub.status.busy": "2024-08-29T14:29:52.653046Z",
     "iopub.status.idle": "2024-08-29T14:29:52.667826Z",
     "shell.execute_reply": "2024-08-29T14:29:52.666285Z",
     "shell.execute_reply.started": "2024-08-29T14:29:52.653560Z"
    },
    "trusted": true
   },
   "outputs": [],
   "source": [
    "precision = precision_score(y_test, y_pred)"
   ]
  },
  {
   "cell_type": "code",
   "execution_count": 652,
   "metadata": {
    "execution": {
     "iopub.execute_input": "2024-08-29T14:29:52.670258Z",
     "iopub.status.busy": "2024-08-29T14:29:52.669755Z",
     "iopub.status.idle": "2024-08-29T14:29:52.682031Z",
     "shell.execute_reply": "2024-08-29T14:29:52.680323Z",
     "shell.execute_reply.started": "2024-08-29T14:29:52.670214Z"
    },
    "trusted": true
   },
   "outputs": [
    {
     "name": "stdout",
     "output_type": "stream",
     "text": [
      "presicion score:  0.9024390243902439\n"
     ]
    }
   ],
   "source": [
    "print('presicion score: ',precision)"
   ]
  },
  {
   "cell_type": "code",
   "execution_count": 653,
   "metadata": {
    "execution": {
     "iopub.execute_input": "2024-08-29T14:29:52.688595Z",
     "iopub.status.busy": "2024-08-29T14:29:52.687214Z",
     "iopub.status.idle": "2024-08-29T14:29:52.696027Z",
     "shell.execute_reply": "2024-08-29T14:29:52.694627Z",
     "shell.execute_reply.started": "2024-08-29T14:29:52.688534Z"
    },
    "trusted": true
   },
   "outputs": [],
   "source": [
    "from sklearn.preprocessing import MinMaxScaler"
   ]
  },
  {
   "cell_type": "code",
   "execution_count": null,
   "metadata": {
    "trusted": true
   },
   "outputs": [],
   "source": []
  },
  {
   "cell_type": "code",
   "execution_count": null,
   "metadata": {},
   "outputs": [],
   "source": []
  }
 ],
 "metadata": {
  "kaggle": {
   "accelerator": "none",
   "dataSources": [
    {
     "datasetId": 5458393,
     "sourceId": 9052698,
     "sourceType": "datasetVersion"
    }
   ],
   "dockerImageVersionId": 30761,
   "isGpuEnabled": false,
   "isInternetEnabled": true,
   "language": "python",
   "sourceType": "notebook"
  },
  "kernelspec": {
   "display_name": "Python 3",
   "language": "python",
   "name": "python3"
  },
  "language_info": {
   "codemirror_mode": {
    "name": "ipython",
    "version": 3
   },
   "file_extension": ".py",
   "mimetype": "text/x-python",
   "name": "python",
   "nbconvert_exporter": "python",
   "pygments_lexer": "ipython3",
   "version": "3.10.14"
  }
 },
 "nbformat": 4,
 "nbformat_minor": 4
}
