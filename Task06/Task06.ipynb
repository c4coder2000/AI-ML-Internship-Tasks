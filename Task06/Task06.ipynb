{
 "cells": [
  {
   "cell_type": "code",
   "execution_count": 2,
   "metadata": {
    "execution": {
     "iopub.execute_input": "2025-06-22T16:30:54.285230Z",
     "iopub.status.busy": "2025-06-22T16:30:54.284861Z",
     "iopub.status.idle": "2025-06-22T16:30:55.404047Z",
     "shell.execute_reply": "2025-06-22T16:30:55.402929Z",
     "shell.execute_reply.started": "2025-06-22T16:30:54.285203Z"
    },
    "trusted": true
   },
   "outputs": [],
   "source": [
    "import pandas as pd\n",
    "import numpy as np\n",
    "import matplotlib.pyplot as plt\n",
    "import seaborn as sns"
   ]
  },
  {
   "cell_type": "code",
   "execution_count": 3,
   "metadata": {
    "execution": {
     "iopub.execute_input": "2025-06-22T16:30:55.406862Z",
     "iopub.status.busy": "2025-06-22T16:30:55.406111Z",
     "iopub.status.idle": "2025-06-22T16:30:55.437687Z",
     "shell.execute_reply": "2025-06-22T16:30:55.436604Z",
     "shell.execute_reply.started": "2025-06-22T16:30:55.406824Z"
    },
    "trusted": true
   },
   "outputs": [],
   "source": [
    "train = pd.read_csv('/kaggle/input/house-price-prediction-seattle/train.csv')\n",
    "test = pd.read_csv('/kaggle/input/house-price-prediction-seattle/test.csv')"
   ]
  },
  {
   "cell_type": "markdown",
   "metadata": {},
   "source": [
    "First used linear regression but the score was too low tbh, so moved towards polynomial regression using degree 2, then normalized and used ridge and lasso regression to overall improve the score"
   ]
  },
  {
   "cell_type": "markdown",
   "metadata": {},
   "source": [
    "# **PERFORM EDA**"
   ]
  },
  {
   "cell_type": "code",
   "execution_count": 4,
   "metadata": {
    "execution": {
     "iopub.execute_input": "2025-06-22T16:30:55.439477Z",
     "iopub.status.busy": "2025-06-22T16:30:55.439096Z",
     "iopub.status.idle": "2025-06-22T16:30:55.492605Z",
     "shell.execute_reply": "2025-06-22T16:30:55.491491Z",
     "shell.execute_reply.started": "2025-06-22T16:30:55.439446Z"
    },
    "trusted": true
   },
   "outputs": [
    {
     "data": {
      "text/html": [
       "<div>\n",
       "<style scoped>\n",
       "    .dataframe tbody tr th:only-of-type {\n",
       "        vertical-align: middle;\n",
       "    }\n",
       "\n",
       "    .dataframe tbody tr th {\n",
       "        vertical-align: top;\n",
       "    }\n",
       "\n",
       "    .dataframe thead th {\n",
       "        text-align: right;\n",
       "    }\n",
       "</style>\n",
       "<table border=\"1\" class=\"dataframe\">\n",
       "  <thead>\n",
       "    <tr style=\"text-align: right;\">\n",
       "      <th></th>\n",
       "      <th>beds</th>\n",
       "      <th>baths</th>\n",
       "      <th>size</th>\n",
       "      <th>lot_size</th>\n",
       "      <th>zip_code</th>\n",
       "      <th>price</th>\n",
       "    </tr>\n",
       "  </thead>\n",
       "  <tbody>\n",
       "    <tr>\n",
       "      <th>count</th>\n",
       "      <td>2016.000000</td>\n",
       "      <td>2016.000000</td>\n",
       "      <td>2016.000000</td>\n",
       "      <td>1669.000000</td>\n",
       "      <td>2016.000000</td>\n",
       "      <td>2.016000e+03</td>\n",
       "    </tr>\n",
       "    <tr>\n",
       "      <th>mean</th>\n",
       "      <td>2.857639</td>\n",
       "      <td>2.159970</td>\n",
       "      <td>1735.740575</td>\n",
       "      <td>3871.059694</td>\n",
       "      <td>98123.638889</td>\n",
       "      <td>9.636252e+05</td>\n",
       "    </tr>\n",
       "    <tr>\n",
       "      <th>std</th>\n",
       "      <td>1.255092</td>\n",
       "      <td>1.002023</td>\n",
       "      <td>920.132591</td>\n",
       "      <td>2719.402066</td>\n",
       "      <td>22.650819</td>\n",
       "      <td>9.440954e+05</td>\n",
       "    </tr>\n",
       "    <tr>\n",
       "      <th>min</th>\n",
       "      <td>1.000000</td>\n",
       "      <td>0.500000</td>\n",
       "      <td>250.000000</td>\n",
       "      <td>0.230000</td>\n",
       "      <td>98101.000000</td>\n",
       "      <td>1.590000e+05</td>\n",
       "    </tr>\n",
       "    <tr>\n",
       "      <th>25%</th>\n",
       "      <td>2.000000</td>\n",
       "      <td>1.500000</td>\n",
       "      <td>1068.750000</td>\n",
       "      <td>1252.000000</td>\n",
       "      <td>98108.000000</td>\n",
       "      <td>6.017500e+05</td>\n",
       "    </tr>\n",
       "    <tr>\n",
       "      <th>50%</th>\n",
       "      <td>3.000000</td>\n",
       "      <td>2.000000</td>\n",
       "      <td>1560.000000</td>\n",
       "      <td>4000.000000</td>\n",
       "      <td>98117.000000</td>\n",
       "      <td>8.000000e+05</td>\n",
       "    </tr>\n",
       "    <tr>\n",
       "      <th>75%</th>\n",
       "      <td>4.000000</td>\n",
       "      <td>2.500000</td>\n",
       "      <td>2222.500000</td>\n",
       "      <td>6000.000000</td>\n",
       "      <td>98126.000000</td>\n",
       "      <td>1.105250e+06</td>\n",
       "    </tr>\n",
       "    <tr>\n",
       "      <th>max</th>\n",
       "      <td>15.000000</td>\n",
       "      <td>9.000000</td>\n",
       "      <td>11010.000000</td>\n",
       "      <td>9998.000000</td>\n",
       "      <td>98199.000000</td>\n",
       "      <td>2.500000e+07</td>\n",
       "    </tr>\n",
       "  </tbody>\n",
       "</table>\n",
       "</div>"
      ],
      "text/plain": [
       "              beds        baths          size     lot_size      zip_code  \\\n",
       "count  2016.000000  2016.000000   2016.000000  1669.000000   2016.000000   \n",
       "mean      2.857639     2.159970   1735.740575  3871.059694  98123.638889   \n",
       "std       1.255092     1.002023    920.132591  2719.402066     22.650819   \n",
       "min       1.000000     0.500000    250.000000     0.230000  98101.000000   \n",
       "25%       2.000000     1.500000   1068.750000  1252.000000  98108.000000   \n",
       "50%       3.000000     2.000000   1560.000000  4000.000000  98117.000000   \n",
       "75%       4.000000     2.500000   2222.500000  6000.000000  98126.000000   \n",
       "max      15.000000     9.000000  11010.000000  9998.000000  98199.000000   \n",
       "\n",
       "              price  \n",
       "count  2.016000e+03  \n",
       "mean   9.636252e+05  \n",
       "std    9.440954e+05  \n",
       "min    1.590000e+05  \n",
       "25%    6.017500e+05  \n",
       "50%    8.000000e+05  \n",
       "75%    1.105250e+06  \n",
       "max    2.500000e+07  "
      ]
     },
     "execution_count": 4,
     "metadata": {},
     "output_type": "execute_result"
    }
   ],
   "source": [
    "train.describe()"
   ]
  },
  {
   "cell_type": "code",
   "execution_count": 5,
   "metadata": {
    "execution": {
     "iopub.execute_input": "2025-06-22T16:30:55.494789Z",
     "iopub.status.busy": "2025-06-22T16:30:55.494404Z",
     "iopub.status.idle": "2025-06-22T16:30:55.520428Z",
     "shell.execute_reply": "2025-06-22T16:30:55.519409Z",
     "shell.execute_reply.started": "2025-06-22T16:30:55.494756Z"
    },
    "trusted": true
   },
   "outputs": [
    {
     "data": {
      "text/html": [
       "<div>\n",
       "<style scoped>\n",
       "    .dataframe tbody tr th:only-of-type {\n",
       "        vertical-align: middle;\n",
       "    }\n",
       "\n",
       "    .dataframe tbody tr th {\n",
       "        vertical-align: top;\n",
       "    }\n",
       "\n",
       "    .dataframe thead th {\n",
       "        text-align: right;\n",
       "    }\n",
       "</style>\n",
       "<table border=\"1\" class=\"dataframe\">\n",
       "  <thead>\n",
       "    <tr style=\"text-align: right;\">\n",
       "      <th></th>\n",
       "      <th>beds</th>\n",
       "      <th>baths</th>\n",
       "      <th>size</th>\n",
       "      <th>lot_size</th>\n",
       "      <th>zip_code</th>\n",
       "      <th>price</th>\n",
       "    </tr>\n",
       "  </thead>\n",
       "  <tbody>\n",
       "    <tr>\n",
       "      <th>count</th>\n",
       "      <td>505.000000</td>\n",
       "      <td>505.000000</td>\n",
       "      <td>505.000000</td>\n",
       "      <td>428.000000</td>\n",
       "      <td>505.000000</td>\n",
       "      <td>5.050000e+02</td>\n",
       "    </tr>\n",
       "    <tr>\n",
       "      <th>mean</th>\n",
       "      <td>2.954455</td>\n",
       "      <td>2.219802</td>\n",
       "      <td>1851.843564</td>\n",
       "      <td>3994.459813</td>\n",
       "      <td>98125.366337</td>\n",
       "      <td>9.795822e+05</td>\n",
       "    </tr>\n",
       "    <tr>\n",
       "      <th>std</th>\n",
       "      <td>1.214947</td>\n",
       "      <td>1.013404</td>\n",
       "      <td>922.556090</td>\n",
       "      <td>2696.962024</td>\n",
       "      <td>24.875054</td>\n",
       "      <td>6.084759e+05</td>\n",
       "    </tr>\n",
       "    <tr>\n",
       "      <th>min</th>\n",
       "      <td>1.000000</td>\n",
       "      <td>1.000000</td>\n",
       "      <td>376.000000</td>\n",
       "      <td>0.230000</td>\n",
       "      <td>98101.000000</td>\n",
       "      <td>1.700000e+05</td>\n",
       "    </tr>\n",
       "    <tr>\n",
       "      <th>25%</th>\n",
       "      <td>2.000000</td>\n",
       "      <td>1.500000</td>\n",
       "      <td>1171.000000</td>\n",
       "      <td>1326.500000</td>\n",
       "      <td>98108.000000</td>\n",
       "      <td>6.199900e+05</td>\n",
       "    </tr>\n",
       "    <tr>\n",
       "      <th>50%</th>\n",
       "      <td>3.000000</td>\n",
       "      <td>2.000000</td>\n",
       "      <td>1690.000000</td>\n",
       "      <td>4190.000000</td>\n",
       "      <td>98118.000000</td>\n",
       "      <td>8.400000e+05</td>\n",
       "    </tr>\n",
       "    <tr>\n",
       "      <th>75%</th>\n",
       "      <td>4.000000</td>\n",
       "      <td>2.500000</td>\n",
       "      <td>2400.000000</td>\n",
       "      <td>6000.000000</td>\n",
       "      <td>98126.000000</td>\n",
       "      <td>1.155000e+06</td>\n",
       "    </tr>\n",
       "    <tr>\n",
       "      <th>max</th>\n",
       "      <td>9.000000</td>\n",
       "      <td>7.000000</td>\n",
       "      <td>6139.000000</td>\n",
       "      <td>9974.000000</td>\n",
       "      <td>98199.000000</td>\n",
       "      <td>6.250000e+06</td>\n",
       "    </tr>\n",
       "  </tbody>\n",
       "</table>\n",
       "</div>"
      ],
      "text/plain": [
       "             beds       baths         size     lot_size      zip_code  \\\n",
       "count  505.000000  505.000000   505.000000   428.000000    505.000000   \n",
       "mean     2.954455    2.219802  1851.843564  3994.459813  98125.366337   \n",
       "std      1.214947    1.013404   922.556090  2696.962024     24.875054   \n",
       "min      1.000000    1.000000   376.000000     0.230000  98101.000000   \n",
       "25%      2.000000    1.500000  1171.000000  1326.500000  98108.000000   \n",
       "50%      3.000000    2.000000  1690.000000  4190.000000  98118.000000   \n",
       "75%      4.000000    2.500000  2400.000000  6000.000000  98126.000000   \n",
       "max      9.000000    7.000000  6139.000000  9974.000000  98199.000000   \n",
       "\n",
       "              price  \n",
       "count  5.050000e+02  \n",
       "mean   9.795822e+05  \n",
       "std    6.084759e+05  \n",
       "min    1.700000e+05  \n",
       "25%    6.199900e+05  \n",
       "50%    8.400000e+05  \n",
       "75%    1.155000e+06  \n",
       "max    6.250000e+06  "
      ]
     },
     "execution_count": 5,
     "metadata": {},
     "output_type": "execute_result"
    }
   ],
   "source": [
    "test.describe()"
   ]
  },
  {
   "cell_type": "code",
   "execution_count": 6,
   "metadata": {
    "execution": {
     "iopub.execute_input": "2025-06-22T16:30:55.524146Z",
     "iopub.status.busy": "2025-06-22T16:30:55.523559Z",
     "iopub.status.idle": "2025-06-22T16:30:55.532025Z",
     "shell.execute_reply": "2025-06-22T16:30:55.531056Z",
     "shell.execute_reply.started": "2025-06-22T16:30:55.524116Z"
    },
    "trusted": true
   },
   "outputs": [
    {
     "data": {
      "text/plain": [
       "beds                0\n",
       "baths               0\n",
       "size                0\n",
       "size_units          0\n",
       "lot_size          347\n",
       "lot_size_units    347\n",
       "zip_code            0\n",
       "price               0\n",
       "dtype: int64"
      ]
     },
     "execution_count": 6,
     "metadata": {},
     "output_type": "execute_result"
    }
   ],
   "source": [
    "train.isnull().sum()  # THERE ARE NULL VALUES IN THE LOT_SIZE AND LOT_SIZE_UNITS COLUMNS\n"
   ]
  },
  {
   "cell_type": "code",
   "execution_count": 7,
   "metadata": {
    "execution": {
     "iopub.execute_input": "2025-06-22T16:30:55.533384Z",
     "iopub.status.busy": "2025-06-22T16:30:55.533116Z",
     "iopub.status.idle": "2025-06-22T16:30:55.554170Z",
     "shell.execute_reply": "2025-06-22T16:30:55.552978Z",
     "shell.execute_reply.started": "2025-06-22T16:30:55.533362Z"
    },
    "trusted": true
   },
   "outputs": [
    {
     "data": {
      "text/plain": [
       "beds               0\n",
       "baths              0\n",
       "size               0\n",
       "size_units         0\n",
       "lot_size          77\n",
       "lot_size_units    77\n",
       "zip_code           0\n",
       "price              0\n",
       "dtype: int64"
      ]
     },
     "execution_count": 7,
     "metadata": {},
     "output_type": "execute_result"
    }
   ],
   "source": [
    "test.isnull().sum()  # SIMILARLY IN THE TEST ONE"
   ]
  },
  {
   "cell_type": "code",
   "execution_count": 8,
   "metadata": {
    "execution": {
     "iopub.execute_input": "2025-06-22T16:30:55.556382Z",
     "iopub.status.busy": "2025-06-22T16:30:55.555469Z",
     "iopub.status.idle": "2025-06-22T16:30:55.574261Z",
     "shell.execute_reply": "2025-06-22T16:30:55.573326Z",
     "shell.execute_reply.started": "2025-06-22T16:30:55.556340Z"
    },
    "trusted": true
   },
   "outputs": [
    {
     "data": {
      "text/plain": [
       "9"
      ]
     },
     "execution_count": 8,
     "metadata": {},
     "output_type": "execute_result"
    }
   ],
   "source": [
    "train.duplicated().sum()"
   ]
  },
  {
   "cell_type": "code",
   "execution_count": 9,
   "metadata": {
    "execution": {
     "iopub.execute_input": "2025-06-22T16:30:55.576052Z",
     "iopub.status.busy": "2025-06-22T16:30:55.575685Z",
     "iopub.status.idle": "2025-06-22T16:30:55.585001Z",
     "shell.execute_reply": "2025-06-22T16:30:55.584056Z",
     "shell.execute_reply.started": "2025-06-22T16:30:55.576016Z"
    },
    "trusted": true
   },
   "outputs": [
    {
     "data": {
      "text/plain": [
       "1"
      ]
     },
     "execution_count": 9,
     "metadata": {},
     "output_type": "execute_result"
    }
   ],
   "source": [
    "test.duplicated().sum()"
   ]
  },
  {
   "cell_type": "markdown",
   "metadata": {},
   "source": [
    "### SO NOW WE KNOW THAT THERE ARE DUPLICATE VALUES, THERE ARE NULL VALUES SO NOW WE HAVE TO CLEAN THE DATA\n",
    "### BUT FIRST WE WILL CHECK IF THERE IS INCONSISTENCY IN UNITS."
   ]
  },
  {
   "cell_type": "code",
   "execution_count": 10,
   "metadata": {
    "execution": {
     "iopub.execute_input": "2025-06-22T16:30:55.586471Z",
     "iopub.status.busy": "2025-06-22T16:30:55.586179Z",
     "iopub.status.idle": "2025-06-22T16:30:55.596707Z",
     "shell.execute_reply": "2025-06-22T16:30:55.595642Z",
     "shell.execute_reply.started": "2025-06-22T16:30:55.586446Z"
    },
    "trusted": true
   },
   "outputs": [
    {
     "data": {
      "text/plain": [
       "array(['sqft', 'acre', nan], dtype=object)"
      ]
     },
     "execution_count": 10,
     "metadata": {},
     "output_type": "execute_result"
    }
   ],
   "source": [
    "train['lot_size_units'].unique()"
   ]
  },
  {
   "cell_type": "code",
   "execution_count": 11,
   "metadata": {
    "execution": {
     "iopub.execute_input": "2025-06-22T16:30:55.598409Z",
     "iopub.status.busy": "2025-06-22T16:30:55.598050Z",
     "iopub.status.idle": "2025-06-22T16:30:55.613148Z",
     "shell.execute_reply": "2025-06-22T16:30:55.611988Z",
     "shell.execute_reply.started": "2025-06-22T16:30:55.598381Z"
    },
    "trusted": true
   },
   "outputs": [
    {
     "data": {
      "text/plain": [
       "array(['sqft', 'acre', nan], dtype=object)"
      ]
     },
     "execution_count": 11,
     "metadata": {},
     "output_type": "execute_result"
    }
   ],
   "source": [
    "test['lot_size_units'].unique()"
   ]
  },
  {
   "cell_type": "markdown",
   "metadata": {},
   "source": [
    "#### SO YES NOW WE KNOW THAT THERE IS SOME SORT OF INCONSISTENCY AS SOME UNITS ARE IN ACRE INSTEAD OF SQFT."
   ]
  },
  {
   "cell_type": "code",
   "execution_count": 12,
   "metadata": {
    "execution": {
     "iopub.execute_input": "2025-06-22T16:30:55.614902Z",
     "iopub.status.busy": "2025-06-22T16:30:55.614528Z",
     "iopub.status.idle": "2025-06-22T16:30:55.631032Z",
     "shell.execute_reply": "2025-06-22T16:30:55.629974Z",
     "shell.execute_reply.started": "2025-06-22T16:30:55.614870Z"
    },
    "trusted": true
   },
   "outputs": [],
   "source": [
    "mask = train['lot_size_units']=='acre'\n",
    "train.loc[mask,'lot_size']*=43560\n",
    "train.loc[mask,'lot_size_units']='sqft'"
   ]
  },
  {
   "cell_type": "code",
   "execution_count": 13,
   "metadata": {
    "execution": {
     "iopub.execute_input": "2025-06-22T16:30:55.632565Z",
     "iopub.status.busy": "2025-06-22T16:30:55.632162Z",
     "iopub.status.idle": "2025-06-22T16:30:55.652848Z",
     "shell.execute_reply": "2025-06-22T16:30:55.651667Z",
     "shell.execute_reply.started": "2025-06-22T16:30:55.632527Z"
    },
    "trusted": true
   },
   "outputs": [
    {
     "data": {
      "text/html": [
       "<div>\n",
       "<style scoped>\n",
       "    .dataframe tbody tr th:only-of-type {\n",
       "        vertical-align: middle;\n",
       "    }\n",
       "\n",
       "    .dataframe tbody tr th {\n",
       "        vertical-align: top;\n",
       "    }\n",
       "\n",
       "    .dataframe thead th {\n",
       "        text-align: right;\n",
       "    }\n",
       "</style>\n",
       "<table border=\"1\" class=\"dataframe\">\n",
       "  <thead>\n",
       "    <tr style=\"text-align: right;\">\n",
       "      <th></th>\n",
       "      <th>beds</th>\n",
       "      <th>baths</th>\n",
       "      <th>size</th>\n",
       "      <th>size_units</th>\n",
       "      <th>lot_size</th>\n",
       "      <th>lot_size_units</th>\n",
       "      <th>zip_code</th>\n",
       "      <th>price</th>\n",
       "    </tr>\n",
       "  </thead>\n",
       "  <tbody>\n",
       "    <tr>\n",
       "      <th>0</th>\n",
       "      <td>3</td>\n",
       "      <td>2.5</td>\n",
       "      <td>2590.0</td>\n",
       "      <td>sqft</td>\n",
       "      <td>6000.0</td>\n",
       "      <td>sqft</td>\n",
       "      <td>98144</td>\n",
       "      <td>795000.0</td>\n",
       "    </tr>\n",
       "    <tr>\n",
       "      <th>1</th>\n",
       "      <td>4</td>\n",
       "      <td>2.0</td>\n",
       "      <td>2240.0</td>\n",
       "      <td>sqft</td>\n",
       "      <td>13503.6</td>\n",
       "      <td>sqft</td>\n",
       "      <td>98106</td>\n",
       "      <td>915000.0</td>\n",
       "    </tr>\n",
       "    <tr>\n",
       "      <th>2</th>\n",
       "      <td>4</td>\n",
       "      <td>3.0</td>\n",
       "      <td>2040.0</td>\n",
       "      <td>sqft</td>\n",
       "      <td>3783.0</td>\n",
       "      <td>sqft</td>\n",
       "      <td>98107</td>\n",
       "      <td>950000.0</td>\n",
       "    </tr>\n",
       "    <tr>\n",
       "      <th>3</th>\n",
       "      <td>4</td>\n",
       "      <td>3.0</td>\n",
       "      <td>3800.0</td>\n",
       "      <td>sqft</td>\n",
       "      <td>5175.0</td>\n",
       "      <td>sqft</td>\n",
       "      <td>98199</td>\n",
       "      <td>1950000.0</td>\n",
       "    </tr>\n",
       "    <tr>\n",
       "      <th>4</th>\n",
       "      <td>2</td>\n",
       "      <td>2.0</td>\n",
       "      <td>1042.0</td>\n",
       "      <td>sqft</td>\n",
       "      <td>NaN</td>\n",
       "      <td>NaN</td>\n",
       "      <td>98102</td>\n",
       "      <td>950000.0</td>\n",
       "    </tr>\n",
       "  </tbody>\n",
       "</table>\n",
       "</div>"
      ],
      "text/plain": [
       "   beds  baths    size size_units  lot_size lot_size_units  zip_code  \\\n",
       "0     3    2.5  2590.0       sqft    6000.0           sqft     98144   \n",
       "1     4    2.0  2240.0       sqft   13503.6           sqft     98106   \n",
       "2     4    3.0  2040.0       sqft    3783.0           sqft     98107   \n",
       "3     4    3.0  3800.0       sqft    5175.0           sqft     98199   \n",
       "4     2    2.0  1042.0       sqft       NaN            NaN     98102   \n",
       "\n",
       "       price  \n",
       "0   795000.0  \n",
       "1   915000.0  \n",
       "2   950000.0  \n",
       "3  1950000.0  \n",
       "4   950000.0  "
      ]
     },
     "execution_count": 13,
     "metadata": {},
     "output_type": "execute_result"
    }
   ],
   "source": [
    "train.head()"
   ]
  },
  {
   "cell_type": "code",
   "execution_count": 14,
   "metadata": {
    "execution": {
     "iopub.execute_input": "2025-06-22T16:30:55.654515Z",
     "iopub.status.busy": "2025-06-22T16:30:55.654217Z",
     "iopub.status.idle": "2025-06-22T16:30:55.664929Z",
     "shell.execute_reply": "2025-06-22T16:30:55.663796Z",
     "shell.execute_reply.started": "2025-06-22T16:30:55.654491Z"
    },
    "trusted": true
   },
   "outputs": [],
   "source": [
    "mask = test['lot_size_units']=='acre'\n",
    "test.loc[mask,'lot_size']*=43560\n",
    "test.loc[mask,'lot_size_units']='sqft'"
   ]
  },
  {
   "cell_type": "code",
   "execution_count": 15,
   "metadata": {
    "execution": {
     "iopub.execute_input": "2025-06-22T16:30:55.669818Z",
     "iopub.status.busy": "2025-06-22T16:30:55.669478Z",
     "iopub.status.idle": "2025-06-22T16:30:55.689276Z",
     "shell.execute_reply": "2025-06-22T16:30:55.688142Z",
     "shell.execute_reply.started": "2025-06-22T16:30:55.669785Z"
    },
    "trusted": true
   },
   "outputs": [
    {
     "data": {
      "text/html": [
       "<div>\n",
       "<style scoped>\n",
       "    .dataframe tbody tr th:only-of-type {\n",
       "        vertical-align: middle;\n",
       "    }\n",
       "\n",
       "    .dataframe tbody tr th {\n",
       "        vertical-align: top;\n",
       "    }\n",
       "\n",
       "    .dataframe thead th {\n",
       "        text-align: right;\n",
       "    }\n",
       "</style>\n",
       "<table border=\"1\" class=\"dataframe\">\n",
       "  <thead>\n",
       "    <tr style=\"text-align: right;\">\n",
       "      <th></th>\n",
       "      <th>beds</th>\n",
       "      <th>baths</th>\n",
       "      <th>size</th>\n",
       "      <th>size_units</th>\n",
       "      <th>lot_size</th>\n",
       "      <th>lot_size_units</th>\n",
       "      <th>zip_code</th>\n",
       "      <th>price</th>\n",
       "    </tr>\n",
       "  </thead>\n",
       "  <tbody>\n",
       "    <tr>\n",
       "      <th>0</th>\n",
       "      <td>3</td>\n",
       "      <td>3.0</td>\n",
       "      <td>2850.0</td>\n",
       "      <td>sqft</td>\n",
       "      <td>4200.0</td>\n",
       "      <td>sqft</td>\n",
       "      <td>98119</td>\n",
       "      <td>1175000.0</td>\n",
       "    </tr>\n",
       "    <tr>\n",
       "      <th>1</th>\n",
       "      <td>4</td>\n",
       "      <td>5.0</td>\n",
       "      <td>3040.0</td>\n",
       "      <td>sqft</td>\n",
       "      <td>5002.0</td>\n",
       "      <td>sqft</td>\n",
       "      <td>98106</td>\n",
       "      <td>1057500.0</td>\n",
       "    </tr>\n",
       "    <tr>\n",
       "      <th>2</th>\n",
       "      <td>3</td>\n",
       "      <td>1.0</td>\n",
       "      <td>1290.0</td>\n",
       "      <td>sqft</td>\n",
       "      <td>6048.0</td>\n",
       "      <td>sqft</td>\n",
       "      <td>98125</td>\n",
       "      <td>799000.0</td>\n",
       "    </tr>\n",
       "    <tr>\n",
       "      <th>3</th>\n",
       "      <td>3</td>\n",
       "      <td>2.0</td>\n",
       "      <td>2360.0</td>\n",
       "      <td>sqft</td>\n",
       "      <td>12196.8</td>\n",
       "      <td>sqft</td>\n",
       "      <td>98188</td>\n",
       "      <td>565000.0</td>\n",
       "    </tr>\n",
       "    <tr>\n",
       "      <th>4</th>\n",
       "      <td>3</td>\n",
       "      <td>3.5</td>\n",
       "      <td>1942.0</td>\n",
       "      <td>sqft</td>\n",
       "      <td>1603.0</td>\n",
       "      <td>sqft</td>\n",
       "      <td>98107</td>\n",
       "      <td>1187000.0</td>\n",
       "    </tr>\n",
       "  </tbody>\n",
       "</table>\n",
       "</div>"
      ],
      "text/plain": [
       "   beds  baths    size size_units  lot_size lot_size_units  zip_code  \\\n",
       "0     3    3.0  2850.0       sqft    4200.0           sqft     98119   \n",
       "1     4    5.0  3040.0       sqft    5002.0           sqft     98106   \n",
       "2     3    1.0  1290.0       sqft    6048.0           sqft     98125   \n",
       "3     3    2.0  2360.0       sqft   12196.8           sqft     98188   \n",
       "4     3    3.5  1942.0       sqft    1603.0           sqft     98107   \n",
       "\n",
       "       price  \n",
       "0  1175000.0  \n",
       "1  1057500.0  \n",
       "2   799000.0  \n",
       "3   565000.0  \n",
       "4  1187000.0  "
      ]
     },
     "execution_count": 15,
     "metadata": {},
     "output_type": "execute_result"
    }
   ],
   "source": [
    "test.head()"
   ]
  },
  {
   "cell_type": "markdown",
   "metadata": {},
   "source": [
    "### NOW WE SHOULD DROP COLUMNS THAT ARE OF NO USE, AND AS WE KNOW THAT THE SIZE IS IN SQFT SO THERE IS NO NEED OF THAT COLUMN\n",
    "### SIMILARLY ZIP_CODE COLUMN IS OF NO USE"
   ]
  },
  {
   "cell_type": "code",
   "execution_count": 16,
   "metadata": {
    "execution": {
     "iopub.execute_input": "2025-06-22T16:30:55.690760Z",
     "iopub.status.busy": "2025-06-22T16:30:55.690466Z",
     "iopub.status.idle": "2025-06-22T16:30:55.704065Z",
     "shell.execute_reply": "2025-06-22T16:30:55.702936Z",
     "shell.execute_reply.started": "2025-06-22T16:30:55.690734Z"
    },
    "trusted": true
   },
   "outputs": [],
   "source": [
    "# so i have removed these columns from train data"
   ]
  },
  {
   "cell_type": "code",
   "execution_count": 17,
   "metadata": {
    "execution": {
     "iopub.execute_input": "2025-06-22T16:30:55.705951Z",
     "iopub.status.busy": "2025-06-22T16:30:55.705489Z",
     "iopub.status.idle": "2025-06-22T16:30:55.720774Z",
     "shell.execute_reply": "2025-06-22T16:30:55.719730Z",
     "shell.execute_reply.started": "2025-06-22T16:30:55.705870Z"
    },
    "trusted": true
   },
   "outputs": [],
   "source": [
    "train = train.drop(['size_units','lot_size_units','zip_code'],axis = 1)\n",
    "test = test.drop(['size_units','lot_size_units','zip_code'],axis = 1)"
   ]
  },
  {
   "cell_type": "code",
   "execution_count": 18,
   "metadata": {
    "execution": {
     "iopub.execute_input": "2025-06-22T16:30:55.722488Z",
     "iopub.status.busy": "2025-06-22T16:30:55.722110Z",
     "iopub.status.idle": "2025-06-22T16:30:55.741474Z",
     "shell.execute_reply": "2025-06-22T16:30:55.740464Z",
     "shell.execute_reply.started": "2025-06-22T16:30:55.722455Z"
    },
    "trusted": true
   },
   "outputs": [
    {
     "data": {
      "text/html": [
       "<div>\n",
       "<style scoped>\n",
       "    .dataframe tbody tr th:only-of-type {\n",
       "        vertical-align: middle;\n",
       "    }\n",
       "\n",
       "    .dataframe tbody tr th {\n",
       "        vertical-align: top;\n",
       "    }\n",
       "\n",
       "    .dataframe thead th {\n",
       "        text-align: right;\n",
       "    }\n",
       "</style>\n",
       "<table border=\"1\" class=\"dataframe\">\n",
       "  <thead>\n",
       "    <tr style=\"text-align: right;\">\n",
       "      <th></th>\n",
       "      <th>beds</th>\n",
       "      <th>baths</th>\n",
       "      <th>size</th>\n",
       "      <th>lot_size</th>\n",
       "      <th>price</th>\n",
       "    </tr>\n",
       "  </thead>\n",
       "  <tbody>\n",
       "    <tr>\n",
       "      <th>0</th>\n",
       "      <td>3</td>\n",
       "      <td>3.0</td>\n",
       "      <td>2850.0</td>\n",
       "      <td>4200.0</td>\n",
       "      <td>1175000.0</td>\n",
       "    </tr>\n",
       "    <tr>\n",
       "      <th>1</th>\n",
       "      <td>4</td>\n",
       "      <td>5.0</td>\n",
       "      <td>3040.0</td>\n",
       "      <td>5002.0</td>\n",
       "      <td>1057500.0</td>\n",
       "    </tr>\n",
       "    <tr>\n",
       "      <th>2</th>\n",
       "      <td>3</td>\n",
       "      <td>1.0</td>\n",
       "      <td>1290.0</td>\n",
       "      <td>6048.0</td>\n",
       "      <td>799000.0</td>\n",
       "    </tr>\n",
       "    <tr>\n",
       "      <th>3</th>\n",
       "      <td>3</td>\n",
       "      <td>2.0</td>\n",
       "      <td>2360.0</td>\n",
       "      <td>12196.8</td>\n",
       "      <td>565000.0</td>\n",
       "    </tr>\n",
       "    <tr>\n",
       "      <th>4</th>\n",
       "      <td>3</td>\n",
       "      <td>3.5</td>\n",
       "      <td>1942.0</td>\n",
       "      <td>1603.0</td>\n",
       "      <td>1187000.0</td>\n",
       "    </tr>\n",
       "    <tr>\n",
       "      <th>...</th>\n",
       "      <td>...</td>\n",
       "      <td>...</td>\n",
       "      <td>...</td>\n",
       "      <td>...</td>\n",
       "      <td>...</td>\n",
       "    </tr>\n",
       "    <tr>\n",
       "      <th>500</th>\n",
       "      <td>5</td>\n",
       "      <td>4.5</td>\n",
       "      <td>5580.0</td>\n",
       "      <td>13068.0</td>\n",
       "      <td>3800000.0</td>\n",
       "    </tr>\n",
       "    <tr>\n",
       "      <th>501</th>\n",
       "      <td>3</td>\n",
       "      <td>2.5</td>\n",
       "      <td>1390.0</td>\n",
       "      <td>1570.0</td>\n",
       "      <td>575000.0</td>\n",
       "    </tr>\n",
       "    <tr>\n",
       "      <th>502</th>\n",
       "      <td>3</td>\n",
       "      <td>2.5</td>\n",
       "      <td>2950.0</td>\n",
       "      <td>20473.2</td>\n",
       "      <td>3105000.0</td>\n",
       "    </tr>\n",
       "    <tr>\n",
       "      <th>503</th>\n",
       "      <td>5</td>\n",
       "      <td>5.0</td>\n",
       "      <td>3010.0</td>\n",
       "      <td>4887.0</td>\n",
       "      <td>1807000.0</td>\n",
       "    </tr>\n",
       "    <tr>\n",
       "      <th>504</th>\n",
       "      <td>3</td>\n",
       "      <td>2.0</td>\n",
       "      <td>1301.0</td>\n",
       "      <td>3000.0</td>\n",
       "      <td>895000.0</td>\n",
       "    </tr>\n",
       "  </tbody>\n",
       "</table>\n",
       "<p>505 rows × 5 columns</p>\n",
       "</div>"
      ],
      "text/plain": [
       "     beds  baths    size  lot_size      price\n",
       "0       3    3.0  2850.0    4200.0  1175000.0\n",
       "1       4    5.0  3040.0    5002.0  1057500.0\n",
       "2       3    1.0  1290.0    6048.0   799000.0\n",
       "3       3    2.0  2360.0   12196.8   565000.0\n",
       "4       3    3.5  1942.0    1603.0  1187000.0\n",
       "..    ...    ...     ...       ...        ...\n",
       "500     5    4.5  5580.0   13068.0  3800000.0\n",
       "501     3    2.5  1390.0    1570.0   575000.0\n",
       "502     3    2.5  2950.0   20473.2  3105000.0\n",
       "503     5    5.0  3010.0    4887.0  1807000.0\n",
       "504     3    2.0  1301.0    3000.0   895000.0\n",
       "\n",
       "[505 rows x 5 columns]"
      ]
     },
     "execution_count": 18,
     "metadata": {},
     "output_type": "execute_result"
    }
   ],
   "source": [
    "test"
   ]
  },
  {
   "cell_type": "code",
   "execution_count": 19,
   "metadata": {
    "execution": {
     "iopub.execute_input": "2025-06-22T16:30:55.743262Z",
     "iopub.status.busy": "2025-06-22T16:30:55.742714Z",
     "iopub.status.idle": "2025-06-22T16:30:55.755293Z",
     "shell.execute_reply": "2025-06-22T16:30:55.754151Z",
     "shell.execute_reply.started": "2025-06-22T16:30:55.743235Z"
    },
    "trusted": true
   },
   "outputs": [],
   "source": [
    "train = train.drop_duplicates()\n",
    "test = test.drop_duplicates()"
   ]
  },
  {
   "cell_type": "code",
   "execution_count": 20,
   "metadata": {
    "execution": {
     "iopub.execute_input": "2025-06-22T16:30:55.756970Z",
     "iopub.status.busy": "2025-06-22T16:30:55.756611Z",
     "iopub.status.idle": "2025-06-22T16:30:55.764877Z",
     "shell.execute_reply": "2025-06-22T16:30:55.763818Z",
     "shell.execute_reply.started": "2025-06-22T16:30:55.756932Z"
    },
    "trusted": true
   },
   "outputs": [
    {
     "data": {
      "text/plain": [
       "18869.292409638554"
      ]
     },
     "execution_count": 20,
     "metadata": {},
     "output_type": "execute_result"
    }
   ],
   "source": [
    "train['lot_size'].mean()"
   ]
  },
  {
   "cell_type": "code",
   "execution_count": 21,
   "metadata": {
    "execution": {
     "iopub.execute_input": "2025-06-22T16:30:55.766897Z",
     "iopub.status.busy": "2025-06-22T16:30:55.766028Z",
     "iopub.status.idle": "2025-06-22T16:30:55.776580Z",
     "shell.execute_reply": "2025-06-22T16:30:55.775397Z",
     "shell.execute_reply.started": "2025-06-22T16:30:55.766858Z"
    },
    "trusted": true
   },
   "outputs": [],
   "source": [
    "median = train['lot_size'].median()"
   ]
  },
  {
   "cell_type": "code",
   "execution_count": 22,
   "metadata": {
    "execution": {
     "iopub.execute_input": "2025-06-22T16:30:55.778613Z",
     "iopub.status.busy": "2025-06-22T16:30:55.778209Z",
     "iopub.status.idle": "2025-06-22T16:30:55.806130Z",
     "shell.execute_reply": "2025-06-22T16:30:55.804697Z",
     "shell.execute_reply.started": "2025-06-22T16:30:55.778575Z"
    },
    "trusted": true
   },
   "outputs": [],
   "source": [
    "# DIFFERENCE IS TOO HIGH so we will fill using median"
   ]
  },
  {
   "cell_type": "code",
   "execution_count": 23,
   "metadata": {
    "execution": {
     "iopub.execute_input": "2025-06-22T16:30:55.808409Z",
     "iopub.status.busy": "2025-06-22T16:30:55.807545Z",
     "iopub.status.idle": "2025-06-22T16:30:55.822762Z",
     "shell.execute_reply": "2025-06-22T16:30:55.821490Z",
     "shell.execute_reply.started": "2025-06-22T16:30:55.808365Z"
    },
    "trusted": true
   },
   "outputs": [],
   "source": [
    "train.fillna({'lot_size':median},inplace = True)"
   ]
  },
  {
   "cell_type": "code",
   "execution_count": 24,
   "metadata": {
    "execution": {
     "iopub.execute_input": "2025-06-22T16:30:55.825266Z",
     "iopub.status.busy": "2025-06-22T16:30:55.824830Z",
     "iopub.status.idle": "2025-06-22T16:30:55.843188Z",
     "shell.execute_reply": "2025-06-22T16:30:55.842150Z",
     "shell.execute_reply.started": "2025-06-22T16:30:55.825229Z"
    },
    "trusted": true
   },
   "outputs": [
    {
     "data": {
      "text/plain": [
       "beds        0\n",
       "baths       0\n",
       "size        0\n",
       "lot_size    0\n",
       "price       0\n",
       "dtype: int64"
      ]
     },
     "execution_count": 24,
     "metadata": {},
     "output_type": "execute_result"
    }
   ],
   "source": [
    "train.isnull().sum()"
   ]
  },
  {
   "cell_type": "code",
   "execution_count": 25,
   "metadata": {
    "execution": {
     "iopub.execute_input": "2025-06-22T16:30:55.845707Z",
     "iopub.status.busy": "2025-06-22T16:30:55.845118Z",
     "iopub.status.idle": "2025-06-22T16:30:55.856742Z",
     "shell.execute_reply": "2025-06-22T16:30:55.855898Z",
     "shell.execute_reply.started": "2025-06-22T16:30:55.845662Z"
    },
    "trusted": true
   },
   "outputs": [
    {
     "data": {
      "text/plain": [
       "8958.522716627635"
      ]
     },
     "execution_count": 25,
     "metadata": {},
     "output_type": "execute_result"
    }
   ],
   "source": [
    "test['lot_size'].mean()"
   ]
  },
  {
   "cell_type": "code",
   "execution_count": 26,
   "metadata": {
    "execution": {
     "iopub.execute_input": "2025-06-22T16:30:55.858234Z",
     "iopub.status.busy": "2025-06-22T16:30:55.857808Z",
     "iopub.status.idle": "2025-06-22T16:30:55.869787Z",
     "shell.execute_reply": "2025-06-22T16:30:55.868240Z",
     "shell.execute_reply.started": "2025-06-22T16:30:55.858199Z"
    },
    "trusted": true
   },
   "outputs": [],
   "source": [
    "median = test['lot_size'].median()"
   ]
  },
  {
   "cell_type": "code",
   "execution_count": 27,
   "metadata": {
    "execution": {
     "iopub.execute_input": "2025-06-22T16:30:55.871942Z",
     "iopub.status.busy": "2025-06-22T16:30:55.871529Z",
     "iopub.status.idle": "2025-06-22T16:30:55.887207Z",
     "shell.execute_reply": "2025-06-22T16:30:55.886166Z",
     "shell.execute_reply.started": "2025-06-22T16:30:55.871884Z"
    },
    "trusted": true
   },
   "outputs": [
    {
     "name": "stderr",
     "output_type": "stream",
     "text": [
      "/tmp/ipykernel_33/3765564698.py:1: SettingWithCopyWarning: \n",
      "A value is trying to be set on a copy of a slice from a DataFrame\n",
      "\n",
      "See the caveats in the documentation: https://pandas.pydata.org/pandas-docs/stable/user_guide/indexing.html#returning-a-view-versus-a-copy\n",
      "  test.fillna({'lot_size':median},inplace = True)\n"
     ]
    }
   ],
   "source": [
    "test.fillna({'lot_size':median},inplace = True)"
   ]
  },
  {
   "cell_type": "markdown",
   "metadata": {},
   "source": [
    "## Data visualization:"
   ]
  },
  {
   "cell_type": "code",
   "execution_count": 28,
   "metadata": {
    "execution": {
     "iopub.execute_input": "2025-06-22T16:30:55.888959Z",
     "iopub.status.busy": "2025-06-22T16:30:55.888527Z",
     "iopub.status.idle": "2025-06-22T16:30:56.234952Z",
     "shell.execute_reply": "2025-06-22T16:30:56.233861Z",
     "shell.execute_reply.started": "2025-06-22T16:30:55.888864Z"
    },
    "trusted": true
   },
   "outputs": [
    {
     "data": {
      "image/png": "[encoded data removed]",
      "text/plain": [
       "<Figure size 640x480 with 1 Axes>"
      ]
     },
     "metadata": {},
     "output_type": "display_data"
    }
   ],
   "source": [
    "sns.scatterplot(x = 'beds',y = 'price',data = train)\n",
    "plt.title('BEDS VS PRICE')\n",
    "plt.show()"
   ]
  },
  {
   "cell_type": "code",
   "execution_count": 29,
   "metadata": {
    "execution": {
     "iopub.execute_input": "2025-06-22T16:30:56.236434Z",
     "iopub.status.busy": "2025-06-22T16:30:56.236062Z",
     "iopub.status.idle": "2025-06-22T16:30:56.488408Z",
     "shell.execute_reply": "2025-06-22T16:30:56.487365Z",
     "shell.execute_reply.started": "2025-06-22T16:30:56.236400Z"
    },
    "trusted": true
   },
   "outputs": [
    {
     "data": {
      "image/png": "[encoded data removed]",
      "text/plain": [
       "<Figure size 640x480 with 1 Axes>"
      ]
     },
     "metadata": {},
     "output_type": "display_data"
    }
   ],
   "source": [
    "sns.scatterplot(x = 'baths', y = 'price', data = train)\n",
    "plt.title('BATHS VS PRICE')\n",
    "plt.show()"
   ]
  },
  {
   "cell_type": "code",
   "execution_count": 30,
   "metadata": {
    "execution": {
     "iopub.execute_input": "2025-06-22T16:30:56.490150Z",
     "iopub.status.busy": "2025-06-22T16:30:56.489751Z",
     "iopub.status.idle": "2025-06-22T16:30:56.765204Z",
     "shell.execute_reply": "2025-06-22T16:30:56.764010Z",
     "shell.execute_reply.started": "2025-06-22T16:30:56.490115Z"
    },
    "trusted": true
   },
   "outputs": [
    {
     "data": {
      "image/png": "[encoded data removed]",
      "text/plain": [
       "<Figure size 640x480 with 1 Axes>"
      ]
     },
     "metadata": {},
     "output_type": "display_data"
    }
   ],
   "source": [
    "sns.scatterplot(x = 'size', y = 'price', data = train)\n",
    "plt.title('size VS PRICE')\n",
    "plt.show()"
   ]
  },
  {
   "cell_type": "code",
   "execution_count": 31,
   "metadata": {
    "execution": {
     "iopub.execute_input": "2025-06-22T16:30:56.766760Z",
     "iopub.status.busy": "2025-06-22T16:30:56.766367Z",
     "iopub.status.idle": "2025-06-22T16:30:57.028426Z",
     "shell.execute_reply": "2025-06-22T16:30:57.027154Z",
     "shell.execute_reply.started": "2025-06-22T16:30:56.766722Z"
    },
    "trusted": true
   },
   "outputs": [
    {
     "data": {
      "image/png": "[encoded data removed]",
      "text/plain": [
       "<Figure size 640x480 with 1 Axes>"
      ]
     },
     "metadata": {},
     "output_type": "display_data"
    }
   ],
   "source": [
    "sns.scatterplot(x = 'lot_size', y = 'price', data = train)\n",
    "plt.title('LOT_SIZE VS PRICE')\n",
    "plt.show()"
   ]
  },
  {
   "cell_type": "code",
   "execution_count": 32,
   "metadata": {
    "execution": {
     "iopub.execute_input": "2025-06-22T16:30:57.030711Z",
     "iopub.status.busy": "2025-06-22T16:30:57.030298Z",
     "iopub.status.idle": "2025-06-22T16:30:57.289218Z",
     "shell.execute_reply": "2025-06-22T16:30:57.288066Z",
     "shell.execute_reply.started": "2025-06-22T16:30:57.030674Z"
    },
    "trusted": true
   },
   "outputs": [
    {
     "data": {
      "image/png": "[encoded data removed]",
      "text/plain": [
       "<Figure size 640x480 with 2 Axes>"
      ]
     },
     "metadata": {},
     "output_type": "display_data"
    }
   ],
   "source": [
    "sns.heatmap(train.corr())\n",
    "plt.show()"
   ]
  },
  {
   "cell_type": "markdown",
   "metadata": {},
   "source": [
    "## Dividing data in X and y data frames"
   ]
  },
  {
   "cell_type": "code",
   "execution_count": 33,
   "metadata": {
    "execution": {
     "iopub.execute_input": "2025-06-22T16:30:57.291035Z",
     "iopub.status.busy": "2025-06-22T16:30:57.290619Z",
     "iopub.status.idle": "2025-06-22T16:30:57.298188Z",
     "shell.execute_reply": "2025-06-22T16:30:57.297213Z",
     "shell.execute_reply.started": "2025-06-22T16:30:57.290998Z"
    },
    "trusted": true
   },
   "outputs": [],
   "source": [
    "x_train = train.drop('price', axis = 1)\n",
    "x_test = test.drop('price', axis = 1)"
   ]
  },
  {
   "cell_type": "code",
   "execution_count": 34,
   "metadata": {
    "execution": {
     "iopub.execute_input": "2025-06-22T16:30:57.301015Z",
     "iopub.status.busy": "2025-06-22T16:30:57.300582Z",
     "iopub.status.idle": "2025-06-22T16:30:57.309531Z",
     "shell.execute_reply": "2025-06-22T16:30:57.308224Z",
     "shell.execute_reply.started": "2025-06-22T16:30:57.300979Z"
    },
    "trusted": true
   },
   "outputs": [],
   "source": [
    "y_train = train['price']\n",
    "y_test = test['price']"
   ]
  },
  {
   "cell_type": "code",
   "execution_count": 35,
   "metadata": {
    "execution": {
     "iopub.execute_input": "2025-06-22T16:30:57.311872Z",
     "iopub.status.busy": "2025-06-22T16:30:57.310997Z",
     "iopub.status.idle": "2025-06-22T16:30:57.633984Z",
     "shell.execute_reply": "2025-06-22T16:30:57.632776Z",
     "shell.execute_reply.started": "2025-06-22T16:30:57.311833Z"
    },
    "trusted": true
   },
   "outputs": [],
   "source": [
    "from sklearn.linear_model import LinearRegression\n",
    "obj = LinearRegression()"
   ]
  },
  {
   "cell_type": "code",
   "execution_count": 36,
   "metadata": {
    "execution": {
     "iopub.execute_input": "2025-06-22T16:30:57.636226Z",
     "iopub.status.busy": "2025-06-22T16:30:57.635799Z",
     "iopub.status.idle": "2025-06-22T16:30:57.673726Z",
     "shell.execute_reply": "2025-06-22T16:30:57.672653Z",
     "shell.execute_reply.started": "2025-06-22T16:30:57.636191Z"
    },
    "trusted": true
   },
   "outputs": [
    {
     "data": {
      "text/html": [
       "<style>#sk-container-id-1 {color: black;background-color: white;}#sk-container-id-1 pre{padding: 0;}#sk-container-id-1 div.sk-toggleable {background-color: white;}#sk-container-id-1 label.sk-toggleable__label {cursor: pointer;display: block;width: 100%;margin-bottom: 0;padding: 0.3em;box-sizing: border-box;text-align: center;}#sk-container-id-1 label.sk-toggleable__label-arrow:before {content: \"▸\";float: left;margin-right: 0.25em;color: #696969;}#sk-container-id-1 label.sk-toggleable__label-arrow:hover:before {color: black;}#sk-container-id-1 div.sk-estimator:hover label.sk-toggleable__label-arrow:before {color: black;}#sk-container-id-1 div.sk-toggleable__content {max-height: 0;max-width: 0;overflow: hidden;text-align: left;background-color: #f0f8ff;}#sk-container-id-1 div.sk-toggleable__content pre {margin: 0.2em;color: black;border-radius: 0.25em;background-color: #f0f8ff;}#sk-container-id-1 input.sk-toggleable__control:checked~div.sk-toggleable__content {max-height: 200px;max-width: 100%;overflow: auto;}#sk-container-id-1 input.sk-toggleable__control:checked~label.sk-toggleable__label-arrow:before {content: \"▾\";}#sk-container-id-1 div.sk-estimator input.sk-toggleable__control:checked~label.sk-toggleable__label {background-color: #d4ebff;}#sk-container-id-1 div.sk-label input.sk-toggleable__control:checked~label.sk-toggleable__label {background-color: #d4ebff;}#sk-container-id-1 input.sk-hidden--visually {border: 0;clip: rect(1px 1px 1px 1px);clip: rect(1px, 1px, 1px, 1px);height: 1px;margin: -1px;overflow: hidden;padding: 0;position: absolute;width: 1px;}#sk-container-id-1 div.sk-estimator {font-family: monospace;background-color: #f0f8ff;border: 1px dotted black;border-radius: 0.25em;box-sizing: border-box;margin-bottom: 0.5em;}#sk-container-id-1 div.sk-estimator:hover {background-color: #d4ebff;}#sk-container-id-1 div.sk-parallel-item::after {content: \"\";width: 100%;border-bottom: 1px solid gray;flex-grow: 1;}#sk-container-id-1 div.sk-label:hover label.sk-toggleable__label {background-color: #d4ebff;}#sk-container-id-1 div.sk-serial::before {content: \"\";position: absolute;border-left: 1px solid gray;box-sizing: border-box;top: 0;bottom: 0;left: 50%;z-index: 0;}#sk-container-id-1 div.sk-serial {display: flex;flex-direction: column;align-items: center;background-color: white;padding-right: 0.2em;padding-left: 0.2em;position: relative;}#sk-container-id-1 div.sk-item {position: relative;z-index: 1;}#sk-container-id-1 div.sk-parallel {display: flex;align-items: stretch;justify-content: center;background-color: white;position: relative;}#sk-container-id-1 div.sk-item::before, #sk-container-id-1 div.sk-parallel-item::before {content: \"\";position: absolute;border-left: 1px solid gray;box-sizing: border-box;top: 0;bottom: 0;left: 50%;z-index: -1;}#sk-container-id-1 div.sk-parallel-item {display: flex;flex-direction: column;z-index: 1;position: relative;background-color: white;}#sk-container-id-1 div.sk-parallel-item:first-child::after {align-self: flex-end;width: 50%;}#sk-container-id-1 div.sk-parallel-item:last-child::after {align-self: flex-start;width: 50%;}#sk-container-id-1 div.sk-parallel-item:only-child::after {width: 0;}#sk-container-id-1 div.sk-dashed-wrapped {border: 1px dashed gray;margin: 0 0.4em 0.5em 0.4em;box-sizing: border-box;padding-bottom: 0.4em;background-color: white;}#sk-container-id-1 div.sk-label label {font-family: monospace;font-weight: bold;display: inline-block;line-height: 1.2em;}#sk-container-id-1 div.sk-label-container {text-align: center;}#sk-container-id-1 div.sk-container {/* jupyter's `normalize.less` sets `[hidden] { display: none; }` but bootstrap.min.css set `[hidden] { display: none !important; }` so we also need the `!important` here to be able to override the default hidden behavior on the sphinx rendered scikit-learn.org. See: https://github.com/scikit-learn/scikit-learn/issues/21755 */display: inline-block !important;position: relative;}#sk-container-id-1 div.sk-text-repr-fallback {display: none;}</style><div id=\"sk-container-id-1\" class=\"sk-top-container\"><div class=\"sk-text-repr-fallback\"><pre>LinearRegression()</pre><b>In a Jupyter environment, please rerun this cell to show the HTML representation or trust the notebook. <br />On GitHub, the HTML representation is unable to render, please try loading this page with nbviewer.org.</b></div><div class=\"sk-container\" hidden><div class=\"sk-item\"><div class=\"sk-estimator sk-toggleable\"><input class=\"sk-toggleable__control sk-hidden--visually\" id=\"sk-estimator-id-1\" type=\"checkbox\" checked><label for=\"sk-estimator-id-1\" class=\"sk-toggleable__label sk-toggleable__label-arrow\">LinearRegression</label><div class=\"sk-toggleable__content\"><pre>LinearRegression()</pre></div></div></div></div></div>"
      ],
      "text/plain": [
       "LinearRegression()"
      ]
     },
     "execution_count": 36,
     "metadata": {},
     "output_type": "execute_result"
    }
   ],
   "source": [
    "obj.fit(x_train, y_train)"
   ]
  },
  {
   "cell_type": "code",
   "execution_count": 37,
   "metadata": {
    "execution": {
     "iopub.execute_input": "2025-06-22T16:30:57.675572Z",
     "iopub.status.busy": "2025-06-22T16:30:57.675235Z",
     "iopub.status.idle": "2025-06-22T16:30:57.682810Z",
     "shell.execute_reply": "2025-06-22T16:30:57.681654Z",
     "shell.execute_reply.started": "2025-06-22T16:30:57.675546Z"
    },
    "trusted": true
   },
   "outputs": [
    {
     "data": {
      "text/plain": [
       "array([-1.10383230e+05,  6.99832948e+04,  5.22203430e+02, -1.90801263e-02])"
      ]
     },
     "execution_count": 37,
     "metadata": {},
     "output_type": "execute_result"
    }
   ],
   "source": [
    "obj.coef_"
   ]
  },
  {
   "cell_type": "code",
   "execution_count": 38,
   "metadata": {
    "execution": {
     "iopub.execute_input": "2025-06-22T16:30:57.684458Z",
     "iopub.status.busy": "2025-06-22T16:30:57.684075Z",
     "iopub.status.idle": "2025-06-22T16:30:57.702347Z",
     "shell.execute_reply": "2025-06-22T16:30:57.701092Z",
     "shell.execute_reply.started": "2025-06-22T16:30:57.684425Z"
    },
    "trusted": true
   },
   "outputs": [
    {
     "data": {
      "text/plain": [
       "221042.79947310162"
      ]
     },
     "execution_count": 38,
     "metadata": {},
     "output_type": "execute_result"
    }
   ],
   "source": [
    "obj.intercept_"
   ]
  },
  {
   "cell_type": "markdown",
   "metadata": {},
   "source": [
    "## OBJECT SCORE:"
   ]
  },
  {
   "cell_type": "code",
   "execution_count": 39,
   "metadata": {
    "execution": {
     "iopub.execute_input": "2025-06-22T16:30:57.704280Z",
     "iopub.status.busy": "2025-06-22T16:30:57.703835Z",
     "iopub.status.idle": "2025-06-22T16:30:57.719418Z",
     "shell.execute_reply": "2025-06-22T16:30:57.718343Z",
     "shell.execute_reply.started": "2025-06-22T16:30:57.704245Z"
    },
    "trusted": true
   },
   "outputs": [
    {
     "data": {
      "text/plain": [
       "0.5335565706117253"
      ]
     },
     "execution_count": 39,
     "metadata": {},
     "output_type": "execute_result"
    }
   ],
   "source": [
    "obj.score(x_test, y_test)"
   ]
  },
  {
   "cell_type": "markdown",
   "metadata": {},
   "source": [
    "## NOW WE WILL NORMALIZE THE DATA AND WILL CHECK THE SCORE AFTER NORMALIZING"
   ]
  },
  {
   "cell_type": "code",
   "execution_count": 40,
   "metadata": {
    "execution": {
     "iopub.execute_input": "2025-06-22T16:30:57.721406Z",
     "iopub.status.busy": "2025-06-22T16:30:57.720942Z",
     "iopub.status.idle": "2025-06-22T16:30:57.738612Z",
     "shell.execute_reply": "2025-06-22T16:30:57.737198Z",
     "shell.execute_reply.started": "2025-06-22T16:30:57.721367Z"
    },
    "trusted": true
   },
   "outputs": [],
   "source": [
    "from sklearn.preprocessing import StandardScaler\n",
    "\n",
    "# Initialize the StandardScaler\n",
    "scaler = StandardScaler()\n",
    "\n",
    "# Apply minmax scaling to the DataFrame\n",
    "x_train = pd.DataFrame(scaler.fit_transform(x_train))\n",
    "x_test = pd.DataFrame(scaler.fit_transform(x_test))"
   ]
  },
  {
   "cell_type": "markdown",
   "metadata": {},
   "source": [
    "## OBJECT SCORE AFTER NORMALIZATION: "
   ]
  },
  {
   "cell_type": "code",
   "execution_count": 41,
   "metadata": {
    "execution": {
     "iopub.execute_input": "2025-06-22T16:30:57.740733Z",
     "iopub.status.busy": "2025-06-22T16:30:57.740319Z",
     "iopub.status.idle": "2025-06-22T16:30:57.747217Z",
     "shell.execute_reply": "2025-06-22T16:30:57.745817Z",
     "shell.execute_reply.started": "2025-06-22T16:30:57.740696Z"
    },
    "trusted": true
   },
   "outputs": [],
   "source": [
    "from sklearn.linear_model import LinearRegression\n",
    "obj1 = LinearRegression()"
   ]
  },
  {
   "cell_type": "code",
   "execution_count": 42,
   "metadata": {
    "execution": {
     "iopub.execute_input": "2025-06-22T16:30:57.757012Z",
     "iopub.status.busy": "2025-06-22T16:30:57.755862Z",
     "iopub.status.idle": "2025-06-22T16:30:57.770388Z",
     "shell.execute_reply": "2025-06-22T16:30:57.769123Z",
     "shell.execute_reply.started": "2025-06-22T16:30:57.756968Z"
    },
    "trusted": true
   },
   "outputs": [
    {
     "data": {
      "text/html": [
       "<style>#sk-container-id-2 {color: black;background-color: white;}#sk-container-id-2 pre{padding: 0;}#sk-container-id-2 div.sk-toggleable {background-color: white;}#sk-container-id-2 label.sk-toggleable__label {cursor: pointer;display: block;width: 100%;margin-bottom: 0;padding: 0.3em;box-sizing: border-box;text-align: center;}#sk-container-id-2 label.sk-toggleable__label-arrow:before {content: \"▸\";float: left;margin-right: 0.25em;color: #696969;}#sk-container-id-2 label.sk-toggleable__label-arrow:hover:before {color: black;}#sk-container-id-2 div.sk-estimator:hover label.sk-toggleable__label-arrow:before {color: black;}#sk-container-id-2 div.sk-toggleable__content {max-height: 0;max-width: 0;overflow: hidden;text-align: left;background-color: #f0f8ff;}#sk-container-id-2 div.sk-toggleable__content pre {margin: 0.2em;color: black;border-radius: 0.25em;background-color: #f0f8ff;}#sk-container-id-2 input.sk-toggleable__control:checked~div.sk-toggleable__content {max-height: 200px;max-width: 100%;overflow: auto;}#sk-container-id-2 input.sk-toggleable__control:checked~label.sk-toggleable__label-arrow:before {content: \"▾\";}#sk-container-id-2 div.sk-estimator input.sk-toggleable__control:checked~label.sk-toggleable__label {background-color: #d4ebff;}#sk-container-id-2 div.sk-label input.sk-toggleable__control:checked~label.sk-toggleable__label {background-color: #d4ebff;}#sk-container-id-2 input.sk-hidden--visually {border: 0;clip: rect(1px 1px 1px 1px);clip: rect(1px, 1px, 1px, 1px);height: 1px;margin: -1px;overflow: hidden;padding: 0;position: absolute;width: 1px;}#sk-container-id-2 div.sk-estimator {font-family: monospace;background-color: #f0f8ff;border: 1px dotted black;border-radius: 0.25em;box-sizing: border-box;margin-bottom: 0.5em;}#sk-container-id-2 div.sk-estimator:hover {background-color: #d4ebff;}#sk-container-id-2 div.sk-parallel-item::after {content: \"\";width: 100%;border-bottom: 1px solid gray;flex-grow: 1;}#sk-container-id-2 div.sk-label:hover label.sk-toggleable__label {background-color: #d4ebff;}#sk-container-id-2 div.sk-serial::before {content: \"\";position: absolute;border-left: 1px solid gray;box-sizing: border-box;top: 0;bottom: 0;left: 50%;z-index: 0;}#sk-container-id-2 div.sk-serial {display: flex;flex-direction: column;align-items: center;background-color: white;padding-right: 0.2em;padding-left: 0.2em;position: relative;}#sk-container-id-2 div.sk-item {position: relative;z-index: 1;}#sk-container-id-2 div.sk-parallel {display: flex;align-items: stretch;justify-content: center;background-color: white;position: relative;}#sk-container-id-2 div.sk-item::before, #sk-container-id-2 div.sk-parallel-item::before {content: \"\";position: absolute;border-left: 1px solid gray;box-sizing: border-box;top: 0;bottom: 0;left: 50%;z-index: -1;}#sk-container-id-2 div.sk-parallel-item {display: flex;flex-direction: column;z-index: 1;position: relative;background-color: white;}#sk-container-id-2 div.sk-parallel-item:first-child::after {align-self: flex-end;width: 50%;}#sk-container-id-2 div.sk-parallel-item:last-child::after {align-self: flex-start;width: 50%;}#sk-container-id-2 div.sk-parallel-item:only-child::after {width: 0;}#sk-container-id-2 div.sk-dashed-wrapped {border: 1px dashed gray;margin: 0 0.4em 0.5em 0.4em;box-sizing: border-box;padding-bottom: 0.4em;background-color: white;}#sk-container-id-2 div.sk-label label {font-family: monospace;font-weight: bold;display: inline-block;line-height: 1.2em;}#sk-container-id-2 div.sk-label-container {text-align: center;}#sk-container-id-2 div.sk-container {/* jupyter's `normalize.less` sets `[hidden] { display: none; }` but bootstrap.min.css set `[hidden] { display: none !important; }` so we also need the `!important` here to be able to override the default hidden behavior on the sphinx rendered scikit-learn.org. See: https://github.com/scikit-learn/scikit-learn/issues/21755 */display: inline-block !important;position: relative;}#sk-container-id-2 div.sk-text-repr-fallback {display: none;}</style><div id=\"sk-container-id-2\" class=\"sk-top-container\"><div class=\"sk-text-repr-fallback\"><pre>LinearRegression()</pre><b>In a Jupyter environment, please rerun this cell to show the HTML representation or trust the notebook. <br />On GitHub, the HTML representation is unable to render, please try loading this page with nbviewer.org.</b></div><div class=\"sk-container\" hidden><div class=\"sk-item\"><div class=\"sk-estimator sk-toggleable\"><input class=\"sk-toggleable__control sk-hidden--visually\" id=\"sk-estimator-id-2\" type=\"checkbox\" checked><label for=\"sk-estimator-id-2\" class=\"sk-toggleable__label sk-toggleable__label-arrow\">LinearRegression</label><div class=\"sk-toggleable__content\"><pre>LinearRegression()</pre></div></div></div></div></div>"
      ],
      "text/plain": [
       "LinearRegression()"
      ]
     },
     "execution_count": 42,
     "metadata": {},
     "output_type": "execute_result"
    }
   ],
   "source": [
    "obj1.fit(x_train, y_train)"
   ]
  },
  {
   "cell_type": "code",
   "execution_count": 43,
   "metadata": {
    "execution": {
     "iopub.execute_input": "2025-06-22T16:30:57.772738Z",
     "iopub.status.busy": "2025-06-22T16:30:57.771707Z",
     "iopub.status.idle": "2025-06-22T16:30:57.789477Z",
     "shell.execute_reply": "2025-06-22T16:30:57.788314Z",
     "shell.execute_reply.started": "2025-06-22T16:30:57.772697Z"
    },
    "trusted": true
   },
   "outputs": [
    {
     "data": {
      "text/plain": [
       "0.5361354861385702"
      ]
     },
     "execution_count": 43,
     "metadata": {},
     "output_type": "execute_result"
    }
   ],
   "source": [
    "obj1.score(x_test, y_test)"
   ]
  },
  {
   "cell_type": "code",
   "execution_count": 44,
   "metadata": {
    "execution": {
     "iopub.execute_input": "2025-06-22T16:30:57.791185Z",
     "iopub.status.busy": "2025-06-22T16:30:57.790827Z",
     "iopub.status.idle": "2025-06-22T16:30:57.805295Z",
     "shell.execute_reply": "2025-06-22T16:30:57.804095Z",
     "shell.execute_reply.started": "2025-06-22T16:30:57.791158Z"
    },
    "trusted": true
   },
   "outputs": [
    {
     "data": {
      "text/plain": [
       "array([-138524.25177261,   70178.20718331,  480482.16331588,\n",
       "         -5011.69053802])"
      ]
     },
     "execution_count": 44,
     "metadata": {},
     "output_type": "execute_result"
    }
   ],
   "source": [
    "obj1.coef_"
   ]
  },
  {
   "cell_type": "code",
   "execution_count": 45,
   "metadata": {
    "execution": {
     "iopub.execute_input": "2025-06-22T16:30:57.807187Z",
     "iopub.status.busy": "2025-06-22T16:30:57.806757Z",
     "iopub.status.idle": "2025-06-22T16:30:57.822329Z",
     "shell.execute_reply": "2025-06-22T16:30:57.821065Z",
     "shell.execute_reply.started": "2025-06-22T16:30:57.807150Z"
    },
    "trusted": true
   },
   "outputs": [
    {
     "data": {
      "text/plain": [
       "964070.0069755855"
      ]
     },
     "execution_count": 45,
     "metadata": {},
     "output_type": "execute_result"
    }
   ],
   "source": [
    "obj1.intercept_\n"
   ]
  },
  {
   "cell_type": "markdown",
   "metadata": {},
   "source": [
    "## EVALUATING USING MATRICES"
   ]
  },
  {
   "cell_type": "code",
   "execution_count": 46,
   "metadata": {
    "execution": {
     "iopub.execute_input": "2025-06-22T16:30:57.824137Z",
     "iopub.status.busy": "2025-06-22T16:30:57.823704Z",
     "iopub.status.idle": "2025-06-22T16:30:57.834069Z",
     "shell.execute_reply": "2025-06-22T16:30:57.832897Z",
     "shell.execute_reply.started": "2025-06-22T16:30:57.824100Z"
    },
    "trusted": true
   },
   "outputs": [],
   "source": [
    "y_pred = obj1.predict(x_test)"
   ]
  },
  {
   "cell_type": "code",
   "execution_count": 47,
   "metadata": {
    "execution": {
     "iopub.execute_input": "2025-06-22T16:30:57.836042Z",
     "iopub.status.busy": "2025-06-22T16:30:57.835603Z",
     "iopub.status.idle": "2025-06-22T16:30:57.847665Z",
     "shell.execute_reply": "2025-06-22T16:30:57.846259Z",
     "shell.execute_reply.started": "2025-06-22T16:30:57.836006Z"
    },
    "trusted": true
   },
   "outputs": [],
   "source": [
    "from sklearn.metrics import mean_absolute_error,mean_squared_error,r2_score"
   ]
  },
  {
   "cell_type": "code",
   "execution_count": 48,
   "metadata": {
    "execution": {
     "iopub.execute_input": "2025-06-22T16:30:57.849580Z",
     "iopub.status.busy": "2025-06-22T16:30:57.849190Z",
     "iopub.status.idle": "2025-06-22T16:30:57.862208Z",
     "shell.execute_reply": "2025-06-22T16:30:57.861005Z",
     "shell.execute_reply.started": "2025-06-22T16:30:57.849531Z"
    },
    "trusted": true
   },
   "outputs": [
    {
     "name": "stdout",
     "output_type": "stream",
     "text": [
      "250761.14703196986\n"
     ]
    }
   ],
   "source": [
    "print(mean_absolute_error(y_test, y_pred))"
   ]
  },
  {
   "cell_type": "code",
   "execution_count": 49,
   "metadata": {
    "execution": {
     "iopub.execute_input": "2025-06-22T16:30:57.864075Z",
     "iopub.status.busy": "2025-06-22T16:30:57.863611Z",
     "iopub.status.idle": "2025-06-22T16:30:57.877187Z",
     "shell.execute_reply": "2025-06-22T16:30:57.876087Z",
     "shell.execute_reply.started": "2025-06-22T16:30:57.864045Z"
    },
    "trusted": true
   },
   "outputs": [
    {
     "name": "stdout",
     "output_type": "stream",
     "text": [
      "171742165033.08292\n"
     ]
    }
   ],
   "source": [
    "print(mean_squared_error(y_test, y_pred))"
   ]
  },
  {
   "cell_type": "code",
   "execution_count": 50,
   "metadata": {
    "execution": {
     "iopub.execute_input": "2025-06-22T16:30:57.878859Z",
     "iopub.status.busy": "2025-06-22T16:30:57.878498Z",
     "iopub.status.idle": "2025-06-22T16:30:57.892018Z",
     "shell.execute_reply": "2025-06-22T16:30:57.890782Z",
     "shell.execute_reply.started": "2025-06-22T16:30:57.878822Z"
    },
    "trusted": true
   },
   "outputs": [
    {
     "name": "stdout",
     "output_type": "stream",
     "text": [
      "414417.8628306011\n"
     ]
    }
   ],
   "source": [
    "print(np.sqrt(mean_squared_error(y_test, y_pred)))"
   ]
  },
  {
   "cell_type": "code",
   "execution_count": 51,
   "metadata": {
    "execution": {
     "iopub.execute_input": "2025-06-22T16:30:57.893933Z",
     "iopub.status.busy": "2025-06-22T16:30:57.893463Z",
     "iopub.status.idle": "2025-06-22T16:30:57.907494Z",
     "shell.execute_reply": "2025-06-22T16:30:57.906324Z",
     "shell.execute_reply.started": "2025-06-22T16:30:57.893867Z"
    },
    "trusted": true
   },
   "outputs": [
    {
     "name": "stdout",
     "output_type": "stream",
     "text": [
      "0.5361354861385702\n"
     ]
    }
   ],
   "source": [
    "print(r2_score(y_test, y_pred))\n",
    "r2 = r2_score(y_test, y_pred)"
   ]
  },
  {
   "cell_type": "code",
   "execution_count": 52,
   "metadata": {
    "execution": {
     "iopub.execute_input": "2025-06-22T16:30:57.909257Z",
     "iopub.status.busy": "2025-06-22T16:30:57.908860Z",
     "iopub.status.idle": "2025-06-22T16:30:57.923591Z",
     "shell.execute_reply": "2025-06-22T16:30:57.922405Z",
     "shell.execute_reply.started": "2025-06-22T16:30:57.909223Z"
    },
    "trusted": true
   },
   "outputs": [
    {
     "data": {
      "text/plain": [
       "(504, 4)"
      ]
     },
     "execution_count": 52,
     "metadata": {},
     "output_type": "execute_result"
    }
   ],
   "source": [
    "x_test.shape"
   ]
  },
  {
   "cell_type": "code",
   "execution_count": 53,
   "metadata": {
    "execution": {
     "iopub.execute_input": "2025-06-22T16:30:57.925508Z",
     "iopub.status.busy": "2025-06-22T16:30:57.925080Z",
     "iopub.status.idle": "2025-06-22T16:30:57.938686Z",
     "shell.execute_reply": "2025-06-22T16:30:57.937492Z",
     "shell.execute_reply.started": "2025-06-22T16:30:57.925471Z"
    },
    "trusted": true
   },
   "outputs": [
    {
     "name": "stdout",
     "output_type": "stream",
     "text": [
      "0.5324171333220458\n"
     ]
    }
   ],
   "source": [
    "adjusted_r2=1-((1-r2)*(504-1)/(504-1-4))\n",
    "print(adjusted_r2)"
   ]
  },
  {
   "cell_type": "markdown",
   "metadata": {},
   "source": [
    "## MODEL MAKING USING POLYNOMIAL REGRESSION: "
   ]
  },
  {
   "cell_type": "code",
   "execution_count": 54,
   "metadata": {
    "execution": {
     "iopub.execute_input": "2025-06-22T16:30:57.940705Z",
     "iopub.status.busy": "2025-06-22T16:30:57.940164Z",
     "iopub.status.idle": "2025-06-22T16:30:57.953037Z",
     "shell.execute_reply": "2025-06-22T16:30:57.951990Z",
     "shell.execute_reply.started": "2025-06-22T16:30:57.940664Z"
    },
    "trusted": true
   },
   "outputs": [],
   "source": [
    "\n",
    "from sklearn.preprocessing import PolynomialFeatures\n",
    "x_train = train.drop('price', axis = 1)\n",
    "x_test = test.drop('price', axis = 1)\n",
    "y_train = train['price']\n",
    "y_test = test['price']\n"
   ]
  },
  {
   "cell_type": "code",
   "execution_count": 55,
   "metadata": {
    "execution": {
     "iopub.execute_input": "2025-06-22T16:30:57.955015Z",
     "iopub.status.busy": "2025-06-22T16:30:57.954568Z",
     "iopub.status.idle": "2025-06-22T16:30:57.966268Z",
     "shell.execute_reply": "2025-06-22T16:30:57.965016Z",
     "shell.execute_reply.started": "2025-06-22T16:30:57.954976Z"
    },
    "trusted": true
   },
   "outputs": [],
   "source": [
    "poly = PolynomialFeatures(degree = 2)"
   ]
  },
  {
   "cell_type": "code",
   "execution_count": 56,
   "metadata": {
    "execution": {
     "iopub.execute_input": "2025-06-22T16:30:57.967862Z",
     "iopub.status.busy": "2025-06-22T16:30:57.967452Z",
     "iopub.status.idle": "2025-06-22T16:30:57.985130Z",
     "shell.execute_reply": "2025-06-22T16:30:57.983994Z",
     "shell.execute_reply.started": "2025-06-22T16:30:57.967825Z"
    },
    "trusted": true
   },
   "outputs": [],
   "source": [
    "x_poly_train = poly.fit_transform(x_train)\n",
    "x_poly_test = poly.transform(x_test)"
   ]
  },
  {
   "cell_type": "code",
   "execution_count": 57,
   "metadata": {
    "execution": {
     "iopub.execute_input": "2025-06-22T16:30:57.987295Z",
     "iopub.status.busy": "2025-06-22T16:30:57.986699Z",
     "iopub.status.idle": "2025-06-22T16:30:57.995320Z",
     "shell.execute_reply": "2025-06-22T16:30:57.994176Z",
     "shell.execute_reply.started": "2025-06-22T16:30:57.987257Z"
    },
    "trusted": true
   },
   "outputs": [],
   "source": [
    "obj3 = LinearRegression()"
   ]
  },
  {
   "cell_type": "code",
   "execution_count": 58,
   "metadata": {
    "execution": {
     "iopub.execute_input": "2025-06-22T16:30:57.996954Z",
     "iopub.status.busy": "2025-06-22T16:30:57.996509Z",
     "iopub.status.idle": "2025-06-22T16:30:58.016541Z",
     "shell.execute_reply": "2025-06-22T16:30:58.014367Z",
     "shell.execute_reply.started": "2025-06-22T16:30:57.996896Z"
    },
    "trusted": true
   },
   "outputs": [
    {
     "data": {
      "text/html": [
       "<style>#sk-container-id-3 {color: black;background-color: white;}#sk-container-id-3 pre{padding: 0;}#sk-container-id-3 div.sk-toggleable {background-color: white;}#sk-container-id-3 label.sk-toggleable__label {cursor: pointer;display: block;width: 100%;margin-bottom: 0;padding: 0.3em;box-sizing: border-box;text-align: center;}#sk-container-id-3 label.sk-toggleable__label-arrow:before {content: \"▸\";float: left;margin-right: 0.25em;color: #696969;}#sk-container-id-3 label.sk-toggleable__label-arrow:hover:before {color: black;}#sk-container-id-3 div.sk-estimator:hover label.sk-toggleable__label-arrow:before {color: black;}#sk-container-id-3 div.sk-toggleable__content {max-height: 0;max-width: 0;overflow: hidden;text-align: left;background-color: #f0f8ff;}#sk-container-id-3 div.sk-toggleable__content pre {margin: 0.2em;color: black;border-radius: 0.25em;background-color: #f0f8ff;}#sk-container-id-3 input.sk-toggleable__control:checked~div.sk-toggleable__content {max-height: 200px;max-width: 100%;overflow: auto;}#sk-container-id-3 input.sk-toggleable__control:checked~label.sk-toggleable__label-arrow:before {content: \"▾\";}#sk-container-id-3 div.sk-estimator input.sk-toggleable__control:checked~label.sk-toggleable__label {background-color: #d4ebff;}#sk-container-id-3 div.sk-label input.sk-toggleable__control:checked~label.sk-toggleable__label {background-color: #d4ebff;}#sk-container-id-3 input.sk-hidden--visually {border: 0;clip: rect(1px 1px 1px 1px);clip: rect(1px, 1px, 1px, 1px);height: 1px;margin: -1px;overflow: hidden;padding: 0;position: absolute;width: 1px;}#sk-container-id-3 div.sk-estimator {font-family: monospace;background-color: #f0f8ff;border: 1px dotted black;border-radius: 0.25em;box-sizing: border-box;margin-bottom: 0.5em;}#sk-container-id-3 div.sk-estimator:hover {background-color: #d4ebff;}#sk-container-id-3 div.sk-parallel-item::after {content: \"\";width: 100%;border-bottom: 1px solid gray;flex-grow: 1;}#sk-container-id-3 div.sk-label:hover label.sk-toggleable__label {background-color: #d4ebff;}#sk-container-id-3 div.sk-serial::before {content: \"\";position: absolute;border-left: 1px solid gray;box-sizing: border-box;top: 0;bottom: 0;left: 50%;z-index: 0;}#sk-container-id-3 div.sk-serial {display: flex;flex-direction: column;align-items: center;background-color: white;padding-right: 0.2em;padding-left: 0.2em;position: relative;}#sk-container-id-3 div.sk-item {position: relative;z-index: 1;}#sk-container-id-3 div.sk-parallel {display: flex;align-items: stretch;justify-content: center;background-color: white;position: relative;}#sk-container-id-3 div.sk-item::before, #sk-container-id-3 div.sk-parallel-item::before {content: \"\";position: absolute;border-left: 1px solid gray;box-sizing: border-box;top: 0;bottom: 0;left: 50%;z-index: -1;}#sk-container-id-3 div.sk-parallel-item {display: flex;flex-direction: column;z-index: 1;position: relative;background-color: white;}#sk-container-id-3 div.sk-parallel-item:first-child::after {align-self: flex-end;width: 50%;}#sk-container-id-3 div.sk-parallel-item:last-child::after {align-self: flex-start;width: 50%;}#sk-container-id-3 div.sk-parallel-item:only-child::after {width: 0;}#sk-container-id-3 div.sk-dashed-wrapped {border: 1px dashed gray;margin: 0 0.4em 0.5em 0.4em;box-sizing: border-box;padding-bottom: 0.4em;background-color: white;}#sk-container-id-3 div.sk-label label {font-family: monospace;font-weight: bold;display: inline-block;line-height: 1.2em;}#sk-container-id-3 div.sk-label-container {text-align: center;}#sk-container-id-3 div.sk-container {/* jupyter's `normalize.less` sets `[hidden] { display: none; }` but bootstrap.min.css set `[hidden] { display: none !important; }` so we also need the `!important` here to be able to override the default hidden behavior on the sphinx rendered scikit-learn.org. See: https://github.com/scikit-learn/scikit-learn/issues/21755 */display: inline-block !important;position: relative;}#sk-container-id-3 div.sk-text-repr-fallback {display: none;}</style><div id=\"sk-container-id-3\" class=\"sk-top-container\"><div class=\"sk-text-repr-fallback\"><pre>LinearRegression()</pre><b>In a Jupyter environment, please rerun this cell to show the HTML representation or trust the notebook. <br />On GitHub, the HTML representation is unable to render, please try loading this page with nbviewer.org.</b></div><div class=\"sk-container\" hidden><div class=\"sk-item\"><div class=\"sk-estimator sk-toggleable\"><input class=\"sk-toggleable__control sk-hidden--visually\" id=\"sk-estimator-id-3\" type=\"checkbox\" checked><label for=\"sk-estimator-id-3\" class=\"sk-toggleable__label sk-toggleable__label-arrow\">LinearRegression</label><div class=\"sk-toggleable__content\"><pre>LinearRegression()</pre></div></div></div></div></div>"
      ],
      "text/plain": [
       "LinearRegression()"
      ]
     },
     "execution_count": 58,
     "metadata": {},
     "output_type": "execute_result"
    }
   ],
   "source": [
    "obj3.fit(x_poly_train, y_train)"
   ]
  },
  {
   "cell_type": "code",
   "execution_count": 59,
   "metadata": {
    "execution": {
     "iopub.execute_input": "2025-06-22T16:30:58.018261Z",
     "iopub.status.busy": "2025-06-22T16:30:58.017801Z",
     "iopub.status.idle": "2025-06-22T16:30:58.041127Z",
     "shell.execute_reply": "2025-06-22T16:30:58.038402Z",
     "shell.execute_reply.started": "2025-06-22T16:30:58.018222Z"
    },
    "trusted": true
   },
   "outputs": [
    {
     "data": {
      "text/plain": [
       "0.5403427025218851"
      ]
     },
     "execution_count": 59,
     "metadata": {},
     "output_type": "execute_result"
    }
   ],
   "source": [
    "obj3.score(x_poly_test, y_test)"
   ]
  },
  {
   "cell_type": "markdown",
   "metadata": {},
   "source": [
    "## EVALUATING USING MATRICES"
   ]
  },
  {
   "cell_type": "code",
   "execution_count": 60,
   "metadata": {
    "execution": {
     "iopub.execute_input": "2025-06-22T16:30:58.042805Z",
     "iopub.status.busy": "2025-06-22T16:30:58.042379Z",
     "iopub.status.idle": "2025-06-22T16:30:58.079251Z",
     "shell.execute_reply": "2025-06-22T16:30:58.076728Z",
     "shell.execute_reply.started": "2025-06-22T16:30:58.042769Z"
    },
    "trusted": true
   },
   "outputs": [
    {
     "name": "stdout",
     "output_type": "stream",
     "text": [
      "MEAN:  255380.74096293864\n",
      "MEAN SQUARED 170184476464.8882\n",
      "ROOT MEAN SQUARED:  412534.212478054\n",
      "R2 SCORE:  0.5403427025218851\n",
      "SHAPE:  (504, 4)\n",
      "ADJUSTED R2:  0.53665807488679\n"
     ]
    }
   ],
   "source": [
    "y_pred = obj3.predict(x_poly_test)\n",
    "from sklearn.metrics import mean_absolute_error,mean_squared_error,r2_score\n",
    "print(\"MEAN: \",mean_absolute_error(y_test, y_pred))\n",
    "print(\"MEAN SQUARED\",mean_squared_error(y_test, y_pred))\n",
    "print(\"ROOT MEAN SQUARED: \",np.sqrt(mean_squared_error(y_test, y_pred)))\n",
    "print(\"R2 SCORE: \",r2_score(y_test, y_pred))\n",
    "r2 = r2_score(y_test, y_pred)\n",
    "print('SHAPE: ',x_test.shape)\n",
    "adjusted_r2=1-((1-r2)*(504-1)/(504-1-4))\n",
    "print(\"ADJUSTED R2: \",adjusted_r2)"
   ]
  },
  {
   "cell_type": "markdown",
   "metadata": {},
   "source": [
    "## RIDGE REGRESSION:"
   ]
  },
  {
   "cell_type": "code",
   "execution_count": 61,
   "metadata": {
    "execution": {
     "iopub.execute_input": "2025-06-22T16:30:58.080976Z",
     "iopub.status.busy": "2025-06-22T16:30:58.080511Z",
     "iopub.status.idle": "2025-06-22T16:30:58.122281Z",
     "shell.execute_reply": "2025-06-22T16:30:58.120081Z",
     "shell.execute_reply.started": "2025-06-22T16:30:58.080936Z"
    },
    "trusted": true
   },
   "outputs": [],
   "source": [
    "\n",
    "x_train = train.drop('price', axis = 1)\n",
    "x_test = test.drop('price', axis = 1)\n",
    "y_train = train['price']\n",
    "y_test = test['price']\n",
    "\n",
    "from sklearn.preprocessing import StandardScaler\n",
    "\n",
    "# Initialize the StandardScaler\n",
    "scaler = StandardScaler()\n",
    "\n",
    "# Apply minmax scaling to the DataFrame\n",
    "x_train = pd.DataFrame(scaler.fit_transform(x_train))\n",
    "x_test = pd.DataFrame(scaler.fit_transform(x_test))\n",
    "\n",
    "from sklearn.linear_model import Ridge\n"
   ]
  },
  {
   "cell_type": "code",
   "execution_count": 62,
   "metadata": {
    "execution": {
     "iopub.execute_input": "2025-06-22T16:30:58.123840Z",
     "iopub.status.busy": "2025-06-22T16:30:58.123456Z",
     "iopub.status.idle": "2025-06-22T16:30:58.132281Z",
     "shell.execute_reply": "2025-06-22T16:30:58.131430Z",
     "shell.execute_reply.started": "2025-06-22T16:30:58.123794Z"
    },
    "trusted": true
   },
   "outputs": [],
   "source": [
    "obj4 = Ridge()"
   ]
  },
  {
   "cell_type": "code",
   "execution_count": 63,
   "metadata": {
    "execution": {
     "iopub.execute_input": "2025-06-22T16:30:58.133609Z",
     "iopub.status.busy": "2025-06-22T16:30:58.133237Z",
     "iopub.status.idle": "2025-06-22T16:30:58.158758Z",
     "shell.execute_reply": "2025-06-22T16:30:58.157652Z",
     "shell.execute_reply.started": "2025-06-22T16:30:58.133583Z"
    },
    "trusted": true
   },
   "outputs": [
    {
     "data": {
      "text/html": [
       "<style>#sk-container-id-4 {color: black;background-color: white;}#sk-container-id-4 pre{padding: 0;}#sk-container-id-4 div.sk-toggleable {background-color: white;}#sk-container-id-4 label.sk-toggleable__label {cursor: pointer;display: block;width: 100%;margin-bottom: 0;padding: 0.3em;box-sizing: border-box;text-align: center;}#sk-container-id-4 label.sk-toggleable__label-arrow:before {content: \"▸\";float: left;margin-right: 0.25em;color: #696969;}#sk-container-id-4 label.sk-toggleable__label-arrow:hover:before {color: black;}#sk-container-id-4 div.sk-estimator:hover label.sk-toggleable__label-arrow:before {color: black;}#sk-container-id-4 div.sk-toggleable__content {max-height: 0;max-width: 0;overflow: hidden;text-align: left;background-color: #f0f8ff;}#sk-container-id-4 div.sk-toggleable__content pre {margin: 0.2em;color: black;border-radius: 0.25em;background-color: #f0f8ff;}#sk-container-id-4 input.sk-toggleable__control:checked~div.sk-toggleable__content {max-height: 200px;max-width: 100%;overflow: auto;}#sk-container-id-4 input.sk-toggleable__control:checked~label.sk-toggleable__label-arrow:before {content: \"▾\";}#sk-container-id-4 div.sk-estimator input.sk-toggleable__control:checked~label.sk-toggleable__label {background-color: #d4ebff;}#sk-container-id-4 div.sk-label input.sk-toggleable__control:checked~label.sk-toggleable__label {background-color: #d4ebff;}#sk-container-id-4 input.sk-hidden--visually {border: 0;clip: rect(1px 1px 1px 1px);clip: rect(1px, 1px, 1px, 1px);height: 1px;margin: -1px;overflow: hidden;padding: 0;position: absolute;width: 1px;}#sk-container-id-4 div.sk-estimator {font-family: monospace;background-color: #f0f8ff;border: 1px dotted black;border-radius: 0.25em;box-sizing: border-box;margin-bottom: 0.5em;}#sk-container-id-4 div.sk-estimator:hover {background-color: #d4ebff;}#sk-container-id-4 div.sk-parallel-item::after {content: \"\";width: 100%;border-bottom: 1px solid gray;flex-grow: 1;}#sk-container-id-4 div.sk-label:hover label.sk-toggleable__label {background-color: #d4ebff;}#sk-container-id-4 div.sk-serial::before {content: \"\";position: absolute;border-left: 1px solid gray;box-sizing: border-box;top: 0;bottom: 0;left: 50%;z-index: 0;}#sk-container-id-4 div.sk-serial {display: flex;flex-direction: column;align-items: center;background-color: white;padding-right: 0.2em;padding-left: 0.2em;position: relative;}#sk-container-id-4 div.sk-item {position: relative;z-index: 1;}#sk-container-id-4 div.sk-parallel {display: flex;align-items: stretch;justify-content: center;background-color: white;position: relative;}#sk-container-id-4 div.sk-item::before, #sk-container-id-4 div.sk-parallel-item::before {content: \"\";position: absolute;border-left: 1px solid gray;box-sizing: border-box;top: 0;bottom: 0;left: 50%;z-index: -1;}#sk-container-id-4 div.sk-parallel-item {display: flex;flex-direction: column;z-index: 1;position: relative;background-color: white;}#sk-container-id-4 div.sk-parallel-item:first-child::after {align-self: flex-end;width: 50%;}#sk-container-id-4 div.sk-parallel-item:last-child::after {align-self: flex-start;width: 50%;}#sk-container-id-4 div.sk-parallel-item:only-child::after {width: 0;}#sk-container-id-4 div.sk-dashed-wrapped {border: 1px dashed gray;margin: 0 0.4em 0.5em 0.4em;box-sizing: border-box;padding-bottom: 0.4em;background-color: white;}#sk-container-id-4 div.sk-label label {font-family: monospace;font-weight: bold;display: inline-block;line-height: 1.2em;}#sk-container-id-4 div.sk-label-container {text-align: center;}#sk-container-id-4 div.sk-container {/* jupyter's `normalize.less` sets `[hidden] { display: none; }` but bootstrap.min.css set `[hidden] { display: none !important; }` so we also need the `!important` here to be able to override the default hidden behavior on the sphinx rendered scikit-learn.org. See: https://github.com/scikit-learn/scikit-learn/issues/21755 */display: inline-block !important;position: relative;}#sk-container-id-4 div.sk-text-repr-fallback {display: none;}</style><div id=\"sk-container-id-4\" class=\"sk-top-container\"><div class=\"sk-text-repr-fallback\"><pre>Ridge()</pre><b>In a Jupyter environment, please rerun this cell to show the HTML representation or trust the notebook. <br />On GitHub, the HTML representation is unable to render, please try loading this page with nbviewer.org.</b></div><div class=\"sk-container\" hidden><div class=\"sk-item\"><div class=\"sk-estimator sk-toggleable\"><input class=\"sk-toggleable__control sk-hidden--visually\" id=\"sk-estimator-id-4\" type=\"checkbox\" checked><label for=\"sk-estimator-id-4\" class=\"sk-toggleable__label sk-toggleable__label-arrow\">Ridge</label><div class=\"sk-toggleable__content\"><pre>Ridge()</pre></div></div></div></div></div>"
      ],
      "text/plain": [
       "Ridge()"
      ]
     },
     "execution_count": 63,
     "metadata": {},
     "output_type": "execute_result"
    }
   ],
   "source": [
    "obj4.fit(x_train, y_train)"
   ]
  },
  {
   "cell_type": "code",
   "execution_count": 64,
   "metadata": {
    "execution": {
     "iopub.execute_input": "2025-06-22T16:30:58.160901Z",
     "iopub.status.busy": "2025-06-22T16:30:58.160136Z",
     "iopub.status.idle": "2025-06-22T16:30:58.177735Z",
     "shell.execute_reply": "2025-06-22T16:30:58.176617Z",
     "shell.execute_reply.started": "2025-06-22T16:30:58.160857Z"
    },
    "trusted": true
   },
   "outputs": [
    {
     "data": {
      "text/plain": [
       "0.5361666063262605"
      ]
     },
     "execution_count": 64,
     "metadata": {},
     "output_type": "execute_result"
    }
   ],
   "source": [
    "obj4.score(x_test, y_test)"
   ]
  },
  {
   "cell_type": "markdown",
   "metadata": {},
   "source": [
    "## EVALUATING USING MATRICES"
   ]
  },
  {
   "cell_type": "code",
   "execution_count": 65,
   "metadata": {
    "execution": {
     "iopub.execute_input": "2025-06-22T16:30:58.179371Z",
     "iopub.status.busy": "2025-06-22T16:30:58.179052Z",
     "iopub.status.idle": "2025-06-22T16:30:58.198388Z",
     "shell.execute_reply": "2025-06-22T16:30:58.195102Z",
     "shell.execute_reply.started": "2025-06-22T16:30:58.179345Z"
    },
    "trusted": true
   },
   "outputs": [
    {
     "name": "stdout",
     "output_type": "stream",
     "text": [
      "MEAN:  250692.62577126446\n",
      "MEAN SQUARED 171730643029.88922\n",
      "ROOT MEAN SQUARED:  414403.9611657799\n",
      "R2 SCORE:  0.5361666063262605\n",
      "SHAPE:  (504, 4)\n",
      "ADJUSTED R2:  0.5324485029701583\n"
     ]
    }
   ],
   "source": [
    "y_pred = obj4.predict(x_test)\n",
    "from sklearn.metrics import mean_absolute_error,mean_squared_error,r2_score\n",
    "print(\"MEAN: \",mean_absolute_error(y_test, y_pred))\n",
    "print(\"MEAN SQUARED\",mean_squared_error(y_test, y_pred))\n",
    "print(\"ROOT MEAN SQUARED: \",np.sqrt(mean_squared_error(y_test, y_pred)))\n",
    "print(\"R2 SCORE: \",r2_score(y_test, y_pred))\n",
    "r2 = r2_score(y_test, y_pred)\n",
    "print('SHAPE: ',x_test.shape)\n",
    "adjusted_r2=1-((1-r2)*(504-1)/(504-1-4))\n",
    "print(\"ADJUSTED R2: \",adjusted_r2)"
   ]
  },
  {
   "cell_type": "markdown",
   "metadata": {},
   "source": [
    "## LASSO REGRESSION:"
   ]
  },
  {
   "cell_type": "code",
   "execution_count": 66,
   "metadata": {
    "execution": {
     "iopub.execute_input": "2025-06-22T16:30:58.200352Z",
     "iopub.status.busy": "2025-06-22T16:30:58.199891Z",
     "iopub.status.idle": "2025-06-22T16:30:58.242399Z",
     "shell.execute_reply": "2025-06-22T16:30:58.241233Z",
     "shell.execute_reply.started": "2025-06-22T16:30:58.200313Z"
    },
    "trusted": true
   },
   "outputs": [],
   "source": [
    "x_train = train.drop('price', axis = 1)\n",
    "x_test = test.drop('price', axis = 1)\n",
    "y_train = train['price']\n",
    "y_test = test['price']\n",
    "\n",
    "from sklearn.preprocessing import StandardScaler\n",
    "\n",
    "# Initialize the StandardScaler\n",
    "scaler = StandardScaler()\n",
    "\n",
    "# Apply minmax scaling to the DataFrame\n",
    "x_train = pd.DataFrame(scaler.fit_transform(x_train))\n",
    "x_test = pd.DataFrame(scaler.fit_transform(x_test))\n",
    "\n",
    "from sklearn.linear_model import Lasso"
   ]
  },
  {
   "cell_type": "code",
   "execution_count": 67,
   "metadata": {
    "execution": {
     "iopub.execute_input": "2025-06-22T16:30:58.247234Z",
     "iopub.status.busy": "2025-06-22T16:30:58.244188Z",
     "iopub.status.idle": "2025-06-22T16:30:58.255055Z",
     "shell.execute_reply": "2025-06-22T16:30:58.253959Z",
     "shell.execute_reply.started": "2025-06-22T16:30:58.247184Z"
    },
    "trusted": true
   },
   "outputs": [],
   "source": [
    "obj5 = Lasso()"
   ]
  },
  {
   "cell_type": "code",
   "execution_count": 68,
   "metadata": {
    "execution": {
     "iopub.execute_input": "2025-06-22T16:30:58.256974Z",
     "iopub.status.busy": "2025-06-22T16:30:58.256540Z",
     "iopub.status.idle": "2025-06-22T16:30:58.289315Z",
     "shell.execute_reply": "2025-06-22T16:30:58.288184Z",
     "shell.execute_reply.started": "2025-06-22T16:30:58.256932Z"
    },
    "trusted": true
   },
   "outputs": [
    {
     "data": {
      "text/html": [
       "<style>#sk-container-id-5 {color: black;background-color: white;}#sk-container-id-5 pre{padding: 0;}#sk-container-id-5 div.sk-toggleable {background-color: white;}#sk-container-id-5 label.sk-toggleable__label {cursor: pointer;display: block;width: 100%;margin-bottom: 0;padding: 0.3em;box-sizing: border-box;text-align: center;}#sk-container-id-5 label.sk-toggleable__label-arrow:before {content: \"▸\";float: left;margin-right: 0.25em;color: #696969;}#sk-container-id-5 label.sk-toggleable__label-arrow:hover:before {color: black;}#sk-container-id-5 div.sk-estimator:hover label.sk-toggleable__label-arrow:before {color: black;}#sk-container-id-5 div.sk-toggleable__content {max-height: 0;max-width: 0;overflow: hidden;text-align: left;background-color: #f0f8ff;}#sk-container-id-5 div.sk-toggleable__content pre {margin: 0.2em;color: black;border-radius: 0.25em;background-color: #f0f8ff;}#sk-container-id-5 input.sk-toggleable__control:checked~div.sk-toggleable__content {max-height: 200px;max-width: 100%;overflow: auto;}#sk-container-id-5 input.sk-toggleable__control:checked~label.sk-toggleable__label-arrow:before {content: \"▾\";}#sk-container-id-5 div.sk-estimator input.sk-toggleable__control:checked~label.sk-toggleable__label {background-color: #d4ebff;}#sk-container-id-5 div.sk-label input.sk-toggleable__control:checked~label.sk-toggleable__label {background-color: #d4ebff;}#sk-container-id-5 input.sk-hidden--visually {border: 0;clip: rect(1px 1px 1px 1px);clip: rect(1px, 1px, 1px, 1px);height: 1px;margin: -1px;overflow: hidden;padding: 0;position: absolute;width: 1px;}#sk-container-id-5 div.sk-estimator {font-family: monospace;background-color: #f0f8ff;border: 1px dotted black;border-radius: 0.25em;box-sizing: border-box;margin-bottom: 0.5em;}#sk-container-id-5 div.sk-estimator:hover {background-color: #d4ebff;}#sk-container-id-5 div.sk-parallel-item::after {content: \"\";width: 100%;border-bottom: 1px solid gray;flex-grow: 1;}#sk-container-id-5 div.sk-label:hover label.sk-toggleable__label {background-color: #d4ebff;}#sk-container-id-5 div.sk-serial::before {content: \"\";position: absolute;border-left: 1px solid gray;box-sizing: border-box;top: 0;bottom: 0;left: 50%;z-index: 0;}#sk-container-id-5 div.sk-serial {display: flex;flex-direction: column;align-items: center;background-color: white;padding-right: 0.2em;padding-left: 0.2em;position: relative;}#sk-container-id-5 div.sk-item {position: relative;z-index: 1;}#sk-container-id-5 div.sk-parallel {display: flex;align-items: stretch;justify-content: center;background-color: white;position: relative;}#sk-container-id-5 div.sk-item::before, #sk-container-id-5 div.sk-parallel-item::before {content: \"\";position: absolute;border-left: 1px solid gray;box-sizing: border-box;top: 0;bottom: 0;left: 50%;z-index: -1;}#sk-container-id-5 div.sk-parallel-item {display: flex;flex-direction: column;z-index: 1;position: relative;background-color: white;}#sk-container-id-5 div.sk-parallel-item:first-child::after {align-self: flex-end;width: 50%;}#sk-container-id-5 div.sk-parallel-item:last-child::after {align-self: flex-start;width: 50%;}#sk-container-id-5 div.sk-parallel-item:only-child::after {width: 0;}#sk-container-id-5 div.sk-dashed-wrapped {border: 1px dashed gray;margin: 0 0.4em 0.5em 0.4em;box-sizing: border-box;padding-bottom: 0.4em;background-color: white;}#sk-container-id-5 div.sk-label label {font-family: monospace;font-weight: bold;display: inline-block;line-height: 1.2em;}#sk-container-id-5 div.sk-label-container {text-align: center;}#sk-container-id-5 div.sk-container {/* jupyter's `normalize.less` sets `[hidden] { display: none; }` but bootstrap.min.css set `[hidden] { display: none !important; }` so we also need the `!important` here to be able to override the default hidden behavior on the sphinx rendered scikit-learn.org. See: https://github.com/scikit-learn/scikit-learn/issues/21755 */display: inline-block !important;position: relative;}#sk-container-id-5 div.sk-text-repr-fallback {display: none;}</style><div id=\"sk-container-id-5\" class=\"sk-top-container\"><div class=\"sk-text-repr-fallback\"><pre>Lasso()</pre><b>In a Jupyter environment, please rerun this cell to show the HTML representation or trust the notebook. <br />On GitHub, the HTML representation is unable to render, please try loading this page with nbviewer.org.</b></div><div class=\"sk-container\" hidden><div class=\"sk-item\"><div class=\"sk-estimator sk-toggleable\"><input class=\"sk-toggleable__control sk-hidden--visually\" id=\"sk-estimator-id-5\" type=\"checkbox\" checked><label for=\"sk-estimator-id-5\" class=\"sk-toggleable__label sk-toggleable__label-arrow\">Lasso</label><div class=\"sk-toggleable__content\"><pre>Lasso()</pre></div></div></div></div></div>"
      ],
      "text/plain": [
       "Lasso()"
      ]
     },
     "execution_count": 68,
     "metadata": {},
     "output_type": "execute_result"
    }
   ],
   "source": [
    "obj5.fit(x_train, y_train)"
   ]
  },
  {
   "cell_type": "code",
   "execution_count": 69,
   "metadata": {
    "execution": {
     "iopub.execute_input": "2025-06-22T16:30:58.290979Z",
     "iopub.status.busy": "2025-06-22T16:30:58.290565Z",
     "iopub.status.idle": "2025-06-22T16:30:58.310814Z",
     "shell.execute_reply": "2025-06-22T16:30:58.309839Z",
     "shell.execute_reply.started": "2025-06-22T16:30:58.290943Z"
    },
    "trusted": true
   },
   "outputs": [
    {
     "data": {
      "text/plain": [
       "0.5361355172714831"
      ]
     },
     "execution_count": 69,
     "metadata": {},
     "output_type": "execute_result"
    }
   ],
   "source": [
    "obj5.score(x_test, y_test)"
   ]
  },
  {
   "cell_type": "markdown",
   "metadata": {},
   "source": [
    "## EVALUATING USING MATRICES:"
   ]
  },
  {
   "cell_type": "code",
   "execution_count": 70,
   "metadata": {
    "execution": {
     "iopub.execute_input": "2025-06-22T16:30:58.313132Z",
     "iopub.status.busy": "2025-06-22T16:30:58.312498Z",
     "iopub.status.idle": "2025-06-22T16:30:58.327946Z",
     "shell.execute_reply": "2025-06-22T16:30:58.326739Z",
     "shell.execute_reply.started": "2025-06-22T16:30:58.313096Z"
    },
    "trusted": true
   },
   "outputs": [
    {
     "name": "stdout",
     "output_type": "stream",
     "text": [
      "MEAN:  250760.9355912876\n",
      "MEAN SQUARED 171742153506.36835\n",
      "ROOT MEAN SQUARED:  414417.8489234849\n",
      "R2 SCORE:  0.5361355172714831\n",
      "SHAPE:  (504, 4)\n",
      "ADJUSTED R2:  0.532417164704521\n"
     ]
    }
   ],
   "source": [
    "y_pred = obj5.predict(x_test)\n",
    "from sklearn.metrics import mean_absolute_error,mean_squared_error,r2_score\n",
    "print(\"MEAN: \",mean_absolute_error(y_test, y_pred))\n",
    "print(\"MEAN SQUARED\",mean_squared_error(y_test, y_pred))\n",
    "print(\"ROOT MEAN SQUARED: \",np.sqrt(mean_squared_error(y_test, y_pred)))\n",
    "print(\"R2 SCORE: \",r2_score(y_test, y_pred))\n",
    "r2 = r2_score(y_test, y_pred)\n",
    "print('SHAPE: ',x_test.shape)\n",
    "adjusted_r2=1-((1-r2)*(504-1)/(504-1-4))\n",
    "print(\"ADJUSTED R2: \",adjusted_r2)"
   ]
  },
  {
   "cell_type": "code",
   "execution_count": null,
   "metadata": {
    "trusted": true
   },
   "outputs": [],
   "source": []
  }
 ],
 "metadata": {
  "kaggle": {
   "accelerator": "none",
   "dataSources": [
    {
     "datasetId": 2758754,
     "sourceId": 4765938,
     "sourceType": "datasetVersion"
    }
   ],
   "dockerImageVersionId": 30746,
   "isGpuEnabled": false,
   "isInternetEnabled": true,
   "language": "python",
   "sourceType": "notebook"
  },
  "kernelspec": {
   "display_name": "Python 3",
   "language": "python",
   "name": "python3"
  },
  "language_info": {
   "codemirror_mode": {
    "name": "ipython",
    "version": 3
   },
   "file_extension": ".py",
   "mimetype": "text/x-python",
   "name": "python",
   "nbconvert_exporter": "python",
   "pygments_lexer": "ipython3",
   "version": "3.10.13"
  }
 },
 "nbformat": 4,
 "nbformat_minor": 4
}
